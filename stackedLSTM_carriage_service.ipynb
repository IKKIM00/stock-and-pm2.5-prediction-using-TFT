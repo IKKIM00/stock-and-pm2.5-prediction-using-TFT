{
 "cells": [
  {
   "cell_type": "code",
   "execution_count": 1,
   "metadata": {
    "ExecuteTime": {
     "end_time": "2021-04-28T05:07:56.917361Z",
     "start_time": "2021-04-28T05:07:52.318198Z"
    }
   },
   "outputs": [],
   "source": [
    "import os\n",
    "import pandas as pd\n",
    "import numpy as np\n",
    "import matplotlib.pyplot as plt\n",
    "from tqdm import tqdm\n",
    "import datetime as dt\n",
    "\n",
    "from sklearn.model_selection import train_test_split\n",
    "from sklearn.metrics import confusion_matrix\n",
    "from sklearn.metrics import accuracy_score, f1_score, recall_score, precision_score\n",
    "from sklearn.preprocessing import StandardScaler, LabelEncoder\n",
    "\n",
    "import torch\n",
    "import torchvision\n",
    "import torch.nn as nn\n",
    "from torch.nn import functional as F\n",
    "from torch.utils.tensorboard import SummaryWriter\n",
    "from torch.utils.data import DataLoader, random_split, TensorDataset\n",
    "\n",
    "%matplotlib inline"
   ]
  },
  {
   "cell_type": "code",
   "execution_count": 2,
   "metadata": {
    "ExecuteTime": {
     "end_time": "2021-04-28T05:07:57.164740Z",
     "start_time": "2021-04-28T05:07:56.965581Z"
    }
   },
   "outputs": [
    {
     "data": {
      "text/plain": [
       "'cuda:2'"
      ]
     },
     "execution_count": 2,
     "metadata": {},
     "output_type": "execute_result"
    }
   ],
   "source": [
    "np.random.seed(42)\n",
    "device = 'cuda:2' if torch.cuda.is_available() else 'cpu'\n",
    "device"
   ]
  },
  {
   "cell_type": "markdown",
   "metadata": {},
   "source": [
    "## Data visualization"
   ]
  },
  {
   "cell_type": "code",
   "execution_count": 15,
   "metadata": {
    "ExecuteTime": {
     "end_time": "2021-04-28T05:09:36.439264Z",
     "start_time": "2021-04-28T05:09:36.337455Z"
    },
    "scrolled": true
   },
   "outputs": [
    {
     "data": {
      "text/html": [
       "<div>\n",
       "<style scoped>\n",
       "    .dataframe tbody tr th:only-of-type {\n",
       "        vertical-align: middle;\n",
       "    }\n",
       "\n",
       "    .dataframe tbody tr th {\n",
       "        vertical-align: top;\n",
       "    }\n",
       "\n",
       "    .dataframe thead th {\n",
       "        text-align: right;\n",
       "    }\n",
       "</style>\n",
       "<table border=\"1\" class=\"dataframe\">\n",
       "  <thead>\n",
       "    <tr style=\"text-align: right;\">\n",
       "      <th></th>\n",
       "      <th>Open</th>\n",
       "      <th>High</th>\n",
       "      <th>Low</th>\n",
       "      <th>Close</th>\n",
       "      <th>Adj Close</th>\n",
       "      <th>Volume</th>\n",
       "    </tr>\n",
       "    <tr>\n",
       "      <th>Date</th>\n",
       "      <th></th>\n",
       "      <th></th>\n",
       "      <th></th>\n",
       "      <th></th>\n",
       "      <th></th>\n",
       "      <th></th>\n",
       "    </tr>\n",
       "  </thead>\n",
       "  <tbody>\n",
       "    <tr>\n",
       "      <th>1996-08-09</th>\n",
       "      <td>14.250000</td>\n",
       "      <td>16.750000</td>\n",
       "      <td>14.250000</td>\n",
       "      <td>16.500000</td>\n",
       "      <td>14.892752</td>\n",
       "      <td>1601500</td>\n",
       "    </tr>\n",
       "    <tr>\n",
       "      <th>1996-08-12</th>\n",
       "      <td>16.500000</td>\n",
       "      <td>16.750000</td>\n",
       "      <td>16.375000</td>\n",
       "      <td>16.500000</td>\n",
       "      <td>14.892752</td>\n",
       "      <td>260900</td>\n",
       "    </tr>\n",
       "    <tr>\n",
       "      <th>1996-08-13</th>\n",
       "      <td>16.500000</td>\n",
       "      <td>16.750000</td>\n",
       "      <td>16.375000</td>\n",
       "      <td>16.375000</td>\n",
       "      <td>14.779927</td>\n",
       "      <td>162800</td>\n",
       "    </tr>\n",
       "    <tr>\n",
       "      <th>1996-08-14</th>\n",
       "      <td>16.375000</td>\n",
       "      <td>16.625000</td>\n",
       "      <td>16.375000</td>\n",
       "      <td>16.375000</td>\n",
       "      <td>14.779927</td>\n",
       "      <td>59500</td>\n",
       "    </tr>\n",
       "    <tr>\n",
       "      <th>1996-08-15</th>\n",
       "      <td>16.625000</td>\n",
       "      <td>16.625000</td>\n",
       "      <td>16.375000</td>\n",
       "      <td>16.625000</td>\n",
       "      <td>15.005575</td>\n",
       "      <td>62300</td>\n",
       "    </tr>\n",
       "    <tr>\n",
       "      <th>...</th>\n",
       "      <td>...</td>\n",
       "      <td>...</td>\n",
       "      <td>...</td>\n",
       "      <td>...</td>\n",
       "      <td>...</td>\n",
       "      <td>...</td>\n",
       "    </tr>\n",
       "    <tr>\n",
       "      <th>2021-04-01</th>\n",
       "      <td>35.270000</td>\n",
       "      <td>36.340000</td>\n",
       "      <td>35.099998</td>\n",
       "      <td>36.139999</td>\n",
       "      <td>36.139999</td>\n",
       "      <td>111400</td>\n",
       "    </tr>\n",
       "    <tr>\n",
       "      <th>2021-04-05</th>\n",
       "      <td>36.580002</td>\n",
       "      <td>36.849998</td>\n",
       "      <td>36.200001</td>\n",
       "      <td>36.529999</td>\n",
       "      <td>36.529999</td>\n",
       "      <td>114000</td>\n",
       "    </tr>\n",
       "    <tr>\n",
       "      <th>2021-04-06</th>\n",
       "      <td>36.650002</td>\n",
       "      <td>36.930000</td>\n",
       "      <td>36.349998</td>\n",
       "      <td>36.660000</td>\n",
       "      <td>36.660000</td>\n",
       "      <td>66100</td>\n",
       "    </tr>\n",
       "    <tr>\n",
       "      <th>2021-04-07</th>\n",
       "      <td>36.549999</td>\n",
       "      <td>36.680000</td>\n",
       "      <td>35.570000</td>\n",
       "      <td>35.759998</td>\n",
       "      <td>35.759998</td>\n",
       "      <td>83300</td>\n",
       "    </tr>\n",
       "    <tr>\n",
       "      <th>2021-04-08</th>\n",
       "      <td>35.750000</td>\n",
       "      <td>35.790001</td>\n",
       "      <td>34.910000</td>\n",
       "      <td>35.320000</td>\n",
       "      <td>35.320000</td>\n",
       "      <td>116200</td>\n",
       "    </tr>\n",
       "  </tbody>\n",
       "</table>\n",
       "<p>6207 rows × 6 columns</p>\n",
       "</div>"
      ],
      "text/plain": [
       "                 Open       High        Low      Close  Adj Close   Volume\n",
       "Date                                                                      \n",
       "1996-08-09  14.250000  16.750000  14.250000  16.500000  14.892752  1601500\n",
       "1996-08-12  16.500000  16.750000  16.375000  16.500000  14.892752   260900\n",
       "1996-08-13  16.500000  16.750000  16.375000  16.375000  14.779927   162800\n",
       "1996-08-14  16.375000  16.625000  16.375000  16.375000  14.779927    59500\n",
       "1996-08-15  16.625000  16.625000  16.375000  16.625000  15.005575    62300\n",
       "...               ...        ...        ...        ...        ...      ...\n",
       "2021-04-01  35.270000  36.340000  35.099998  36.139999  36.139999   111400\n",
       "2021-04-05  36.580002  36.849998  36.200001  36.529999  36.529999   114000\n",
       "2021-04-06  36.650002  36.930000  36.349998  36.660000  36.660000    66100\n",
       "2021-04-07  36.549999  36.680000  35.570000  35.759998  35.759998    83300\n",
       "2021-04-08  35.750000  35.790001  34.910000  35.320000  35.320000   116200\n",
       "\n",
       "[6207 rows x 6 columns]"
      ]
     },
     "execution_count": 15,
     "metadata": {},
     "output_type": "execute_result"
    }
   ],
   "source": [
    "data = pd.read_csv('data.csv',parse_dates = True, index_col=0)\n",
    "data"
   ]
  },
  {
   "cell_type": "code",
   "execution_count": 4,
   "metadata": {
    "ExecuteTime": {
     "end_time": "2021-04-28T05:08:04.116746Z",
     "start_time": "2021-04-28T05:08:02.289370Z"
    }
   },
   "outputs": [
    {
     "data": {
      "text/plain": [
       "[<matplotlib.lines.Line2D at 0x7f93ed8a7d90>]"
      ]
     },
     "execution_count": 4,
     "metadata": {},
     "output_type": "execute_result"
    },
    {
     "data": {
      "image/png": "[encoded data removed]",
      "text/plain": [
       "<Figure size 1440x720 with 1 Axes>"
      ]
     },
     "metadata": {
      "needs_background": "light"
     },
     "output_type": "display_data"
    }
   ],
   "source": [
    "plt.figure(figsize=(20,10))\n",
    "plt.plot(data['Open'])\n",
    "plt.plot(data['High'])\n",
    "plt.plot(data['Low'])\n",
    "plt.plot(data['Close'])"
   ]
  },
  {
   "cell_type": "code",
   "execution_count": 5,
   "metadata": {
    "ExecuteTime": {
     "end_time": "2021-04-28T05:08:06.324743Z",
     "start_time": "2021-04-28T05:08:04.568208Z"
    }
   },
   "outputs": [
    {
     "data": {
      "text/plain": [
       "[<matplotlib.lines.Line2D at 0x7f93713a8490>]"
      ]
     },
     "execution_count": 5,
     "metadata": {},
     "output_type": "execute_result"
    },
    {
     "data": {
      "image/png": "[encoded data removed]",
      "text/plain": [
       "<Figure size 1440x720 with 1 Axes>"
      ]
     },
     "metadata": {
      "needs_background": "light"
     },
     "output_type": "display_data"
    }
   ],
   "source": [
    "plt.figure(figsize=(20, 10))\n",
    "plt.plot(data['Volume'])"
   ]
  },
  {
   "cell_type": "code",
   "execution_count": 6,
   "metadata": {
    "ExecuteTime": {
     "end_time": "2021-04-28T05:08:07.050311Z",
     "start_time": "2021-04-28T05:08:07.045701Z"
    }
   },
   "outputs": [],
   "source": [
    "def plot_error(train_loss,val_loss):\n",
    "    plt.plot(train_loss,c = 'r')\n",
    "    plt.plot(val_loss,c = 'b')\n",
    "    plt.ylabel('Loss')\n",
    "    plt.legend(['train','val'],loc = 'upper right')\n",
    "    plt.show()"
   ]
  },
  {
   "cell_type": "code",
   "execution_count": 7,
   "metadata": {
    "ExecuteTime": {
     "end_time": "2021-04-28T05:08:08.288333Z",
     "start_time": "2021-04-28T05:08:08.283461Z"
    }
   },
   "outputs": [],
   "source": [
    "def plot_data(Y_test,Y_hat):\n",
    "    plt.plot(Y_test,c = 'r')\n",
    "    plt.plot(Y_hat,c = 'y')\n",
    "    plt.xlabel('Day')\n",
    "    plt.ylabel('Price')\n",
    "    plt.title('Stock Prediction Graph using Multivariate-LSTM model')\n",
    "    plt.legend(['Actual','Predicted'],loc = 'lower right')\n",
    "    plt.show()"
   ]
  },
  {
   "cell_type": "markdown",
   "metadata": {},
   "source": [
    "## data split"
   ]
  },
  {
   "cell_type": "code",
   "execution_count": 16,
   "metadata": {
    "ExecuteTime": {
     "end_time": "2021-04-28T05:09:43.704743Z",
     "start_time": "2021-04-28T05:09:43.664623Z"
    }
   },
   "outputs": [
    {
     "name": "stdout",
     "output_type": "stream",
     "text": [
      "                Close       Open       High        Low   Volume\n",
      "Date                                                           \n",
      "1996-08-09  16.500000  14.250000  16.750000  14.250000  1601500\n",
      "1996-08-12  16.500000  16.500000  16.750000  16.375000   260900\n",
      "1996-08-13  16.375000  16.500000  16.750000  16.375000   162800\n",
      "1996-08-14  16.375000  16.375000  16.625000  16.375000    59500\n",
      "1996-08-15  16.625000  16.625000  16.625000  16.375000    62300\n",
      "...               ...        ...        ...        ...      ...\n",
      "2021-04-01  36.139999  35.270000  36.340000  35.099998   111400\n",
      "2021-04-05  36.529999  36.580002  36.849998  36.200001   114000\n",
      "2021-04-06  36.660000  36.650002  36.930000  36.349998    66100\n",
      "2021-04-07  35.759998  36.549999  36.680000  35.570000    83300\n",
      "2021-04-08  35.320000  35.750000  35.790001  34.910000   116200\n",
      "\n",
      "[6207 rows x 5 columns]\n",
      "(3876, 5) (1258, 5) (1073, 5)\n"
     ]
    }
   ],
   "source": [
    "data = data[['Close', 'Open', 'High', 'Low', 'Volume']]\n",
    "print(data)\n",
    "train_start = dt.date(1996,8,9)\n",
    "train_end = dt.date(2011,12,31)\n",
    "train_data = data.loc[train_start:train_end]\n",
    "\n",
    "val_start = dt.date(2012,1,1)\n",
    "val_end = dt.date(2016,12,31)\n",
    "val_data = data.loc[val_start:val_end]\n",
    "\n",
    "test_start = dt.date(2016,1,1)\n",
    "test_end = dt.date(2020,4,7)\n",
    "test_data = data.loc[test_start:test_end]\n",
    "\n",
    "print(train_data.shape,val_data.shape,test_data.shape)"
   ]
  },
  {
   "cell_type": "markdown",
   "metadata": {},
   "source": [
    "## Scaling"
   ]
  },
  {
   "cell_type": "code",
   "execution_count": 17,
   "metadata": {
    "ExecuteTime": {
     "end_time": "2021-04-28T05:09:46.276747Z",
     "start_time": "2021-04-28T05:09:46.220796Z"
    }
   },
   "outputs": [],
   "source": [
    "sc = StandardScaler()\n",
    "train = sc.fit_transform(train_data)\n",
    "val = sc.fit_transform(val_data)\n",
    "test = sc.fit_transform(test_data)"
   ]
  },
  {
   "cell_type": "markdown",
   "metadata": {},
   "source": [
    "## torch dataset"
   ]
  },
  {
   "cell_type": "code",
   "execution_count": 19,
   "metadata": {
    "ExecuteTime": {
     "end_time": "2021-04-28T05:09:50.662470Z",
     "start_time": "2021-04-28T05:09:50.657702Z"
    }
   },
   "outputs": [],
   "source": [
    "def convert2torch(data, time_step):\n",
    "    X_data, y_data = list(), list()\n",
    "    for i in range(time_step, len(data)):\n",
    "        X_data.append(data[i-time_step:i])\n",
    "        y_data.append(data[i][0])\n",
    "    X_data, y_data = torch.Tensor(X_data), torch.Tensor(y_data)\n",
    "    return X_data, y_data"
   ]
  },
  {
   "cell_type": "code",
   "execution_count": 20,
   "metadata": {
    "ExecuteTime": {
     "end_time": "2021-04-28T05:09:56.364757Z",
     "start_time": "2021-04-28T05:09:51.839355Z"
    }
   },
   "outputs": [],
   "source": [
    "batch_size = 128\n",
    "\n",
    "X_train, y_train = convert2torch(train, 50)\n",
    "train_data = TensorDataset(X_train, y_train)\n",
    "train_loader = DataLoader(train_data, shuffle=False, batch_size=batch_size)\n",
    "\n",
    "X_val, y_val = convert2torch(val, 50)\n",
    "val_data = TensorDataset(X_val, y_val)\n",
    "val_loader = DataLoader(val_data, shuffle=False, batch_size=batch_size)\n",
    "\n",
    "X_test, y_test = convert2torch(test, 50)\n",
    "test_data = TensorDataset(X_test, y_test)\n",
    "test_loader = DataLoader(test_data, shuffle=False, batch_size=1)"
   ]
  },
  {
   "cell_type": "markdown",
   "metadata": {},
   "source": [
    "## Model"
   ]
  },
  {
   "cell_type": "code",
   "execution_count": 21,
   "metadata": {
    "ExecuteTime": {
     "end_time": "2021-04-28T05:09:56.668744Z",
     "start_time": "2021-04-28T05:09:56.625658Z"
    }
   },
   "outputs": [],
   "source": [
    "class MultivariateLSTM(nn.Module):\n",
    "    def __init__(self, input_dim, hidden_dim):\n",
    "        super(MultivariateLSTM, self).__init__()\n",
    "        self.input_dim = input_dim\n",
    "        self.hidden_dim1 = hidden_dim[0]\n",
    "        self.hidden_dim2 = hidden_dim[1]\n",
    "        \n",
    "        self.lstm1 = nn.LSTM(input_dim, input_dim, batch_first=True)\n",
    "        self.lstm2 = nn.LSTM(input_dim, self.hidden_dim1, batch_first=True)\n",
    "        self.lstm3 = nn.LSTM(self.hidden_dim1, self.hidden_dim2, batch_first=True)\n",
    "        \n",
    "        self.fc1 = nn.Linear(input_dim, 40)\n",
    "        self.fc2 = nn.Linear(40, 35)\n",
    "        self.fc3 = nn.Linear(35, 1)\n",
    "        \n",
    "    def forward(self, inp):\n",
    "        h0, c0 = self.init_hidden(inp, self.input_dim)\n",
    "        output, (h_t, c_t) = self.lstm1(inp, (h0, c0))\n",
    "        h_t, c_t = self.fc1(h_t), self.fc1(c_t)\n",
    "        output, (h_t, c_t) = self.lstm2(output, (h_t, c_t))\n",
    "        h_t, c_t = self.fc2(h_t), self.fc2(c_t)\n",
    "        output, (h_t, c_t) = self.lstm3(output, (h_t, c_t))\n",
    "        output = self.fc3(h_t)\n",
    "        return output\n",
    "        \n",
    "    def init_hidden(self, inp, c_size):\n",
    "        b, seq_len, c = inp.size()\n",
    "        h0 = torch.zeros(1, b, c_size)\n",
    "        c0 = torch.zeros(1, b, c_size)\n",
    "        return [t.cuda() for t in (h0, c0)]"
   ]
  },
  {
   "cell_type": "code",
   "execution_count": 22,
   "metadata": {
    "ExecuteTime": {
     "end_time": "2021-04-28T05:10:14.392750Z",
     "start_time": "2021-04-28T05:09:56.906763Z"
    }
   },
   "outputs": [
    {
     "name": "stdout",
     "output_type": "stream",
     "text": [
      "torch.Size([128, 50, 5])\n",
      "torch.Size([128])\n",
      "torch.Size([1, 128, 1])\n",
      "tensor([[[-0.0333],\n",
      "         [-0.0333],\n",
      "         [-0.0332],\n",
      "         [-0.0332],\n",
      "         [-0.0332],\n",
      "         [-0.0330],\n",
      "         [-0.0326],\n",
      "         [-0.0324],\n",
      "         [-0.0322],\n",
      "         [-0.0321],\n",
      "         [-0.0322],\n",
      "         [-0.0323],\n",
      "         [-0.0324],\n",
      "         [-0.0326],\n",
      "         [-0.0328],\n",
      "         [-0.0330],\n",
      "         [-0.0331],\n",
      "         [-0.0332],\n",
      "         [-0.0332],\n",
      "         [-0.0332],\n",
      "         [-0.0332],\n",
      "         [-0.0333],\n",
      "         [-0.0334],\n",
      "         [-0.0335],\n",
      "         [-0.0335],\n",
      "         [-0.0336],\n",
      "         [-0.0336],\n",
      "         [-0.0336],\n",
      "         [-0.0337],\n",
      "         [-0.0338],\n",
      "         [-0.0338],\n",
      "         [-0.0339],\n",
      "         [-0.0340],\n",
      "         [-0.0340],\n",
      "         [-0.0341],\n",
      "         [-0.0342],\n",
      "         [-0.0342],\n",
      "         [-0.0343],\n",
      "         [-0.0343],\n",
      "         [-0.0344],\n",
      "         [-0.0344],\n",
      "         [-0.0344],\n",
      "         [-0.0344],\n",
      "         [-0.0344],\n",
      "         [-0.0344],\n",
      "         [-0.0344],\n",
      "         [-0.0344],\n",
      "         [-0.0344],\n",
      "         [-0.0344],\n",
      "         [-0.0343],\n",
      "         [-0.0343],\n",
      "         [-0.0342],\n",
      "         [-0.0342],\n",
      "         [-0.0341],\n",
      "         [-0.0341],\n",
      "         [-0.0340],\n",
      "         [-0.0340],\n",
      "         [-0.0340],\n",
      "         [-0.0340],\n",
      "         [-0.0340],\n",
      "         [-0.0339],\n",
      "         [-0.0338],\n",
      "         [-0.0337],\n",
      "         [-0.0336],\n",
      "         [-0.0336],\n",
      "         [-0.0336],\n",
      "         [-0.0335],\n",
      "         [-0.0335],\n",
      "         [-0.0335],\n",
      "         [-0.0335],\n",
      "         [-0.0336],\n",
      "         [-0.0336],\n",
      "         [-0.0336],\n",
      "         [-0.0337],\n",
      "         [-0.0337],\n",
      "         [-0.0338],\n",
      "         [-0.0338],\n",
      "         [-0.0339],\n",
      "         [-0.0339],\n",
      "         [-0.0336],\n",
      "         [-0.0333],\n",
      "         [-0.0329],\n",
      "         [-0.0326],\n",
      "         [-0.0324],\n",
      "         [-0.0324],\n",
      "         [-0.0324],\n",
      "         [-0.0325],\n",
      "         [-0.0326],\n",
      "         [-0.0328],\n",
      "         [-0.0330],\n",
      "         [-0.0331],\n",
      "         [-0.0333],\n",
      "         [-0.0334],\n",
      "         [-0.0336],\n",
      "         [-0.0337],\n",
      "         [-0.0338],\n",
      "         [-0.0339],\n",
      "         [-0.0340],\n",
      "         [-0.0341],\n",
      "         [-0.0342],\n",
      "         [-0.0343],\n",
      "         [-0.0343],\n",
      "         [-0.0343],\n",
      "         [-0.0343],\n",
      "         [-0.0344],\n",
      "         [-0.0344],\n",
      "         [-0.0344],\n",
      "         [-0.0344],\n",
      "         [-0.0344],\n",
      "         [-0.0345],\n",
      "         [-0.0345],\n",
      "         [-0.0345],\n",
      "         [-0.0345],\n",
      "         [-0.0345],\n",
      "         [-0.0345],\n",
      "         [-0.0345],\n",
      "         [-0.0345],\n",
      "         [-0.0346],\n",
      "         [-0.0345],\n",
      "         [-0.0345],\n",
      "         [-0.0346],\n",
      "         [-0.0346],\n",
      "         [-0.0346],\n",
      "         [-0.0345],\n",
      "         [-0.0345],\n",
      "         [-0.0345],\n",
      "         [-0.0345],\n",
      "         [-0.0345]]], device='cuda:0')\n",
      "tensor(4.1062, device='cuda:0')\n"
     ]
    }
   ],
   "source": [
    "with torch.no_grad():\n",
    "    dataiter = iter(train_loader)\n",
    "    X, y = dataiter.next()\n",
    "    print(X.shape)\n",
    "    print(y.shape)\n",
    "    model = MultivariateLSTM(5, [40, 35]).cuda()\n",
    "    output = model(X.cuda())\n",
    "    print(output.shape)\n",
    "    print(output)\n",
    "    criterion = nn.MSELoss()\n",
    "    loss = criterion(output.squeeze(), y.cuda())\n",
    "    print(loss)"
   ]
  },
  {
   "cell_type": "markdown",
   "metadata": {},
   "source": [
    "## Train"
   ]
  },
  {
   "cell_type": "code",
   "execution_count": 23,
   "metadata": {
    "ExecuteTime": {
     "end_time": "2021-04-28T05:10:20.441667Z",
     "start_time": "2021-04-28T05:10:20.429326Z"
    }
   },
   "outputs": [],
   "source": [
    "class EarlyStopping:\n",
    "    \"\"\"Early stops the training if validation loss doesn't improve after a given patience.\"\"\"\n",
    "    def __init__(self, patience=7, verbose=False, delta=0, path='carr_ser_stackedLSTM.pth', trace_func=print):\n",
    "        \"\"\"\n",
    "        Args:\n",
    "            patience (int): How long to wait after last time validation loss improved.\n",
    "                            Default: 7\n",
    "            verbose (bool): If True, prints a message for each validation loss improvement. \n",
    "                            Default: False\n",
    "            delta (float): Minimum change in the monitored quantity to qualify as an improvement.\n",
    "                            Default: 0\n",
    "            path (str): Path for the checkpoint to be saved to.\n",
    "                            Default: 'checkpoint.pt'\n",
    "            trace_func (function): trace print function.\n",
    "                            Default: print            \n",
    "        \"\"\"\n",
    "        self.patience = patience\n",
    "        self.verbose = verbose\n",
    "        self.counter = 0\n",
    "        self.best_score = None\n",
    "        self.early_stop = False\n",
    "        self.val_loss_min = np.Inf\n",
    "        self.delta = delta\n",
    "        self.path = path\n",
    "        self.trace_func = trace_func\n",
    "    def __call__(self, val_loss, model):\n",
    "\n",
    "        score = -val_loss\n",
    "\n",
    "        if self.best_score is None:\n",
    "            self.best_score = score\n",
    "            self.save_checkpoint(val_loss, model)\n",
    "        elif score < self.best_score + self.delta:\n",
    "            self.counter += 1\n",
    "            self.trace_func(f'EarlyStopping counter: {self.counter} out of {self.patience}')\n",
    "            if self.counter >= self.patience:\n",
    "                self.early_stop = True\n",
    "        else:\n",
    "            self.best_score = score\n",
    "            self.save_checkpoint(val_loss, model)\n",
    "            self.counter = 0\n",
    "\n",
    "    def save_checkpoint(self, val_loss, model):\n",
    "        '''Saves model when validation loss decrease.'''\n",
    "        if self.verbose:\n",
    "            self.trace_func(f'Validation loss decreased ({self.val_loss_min:.6f} --> {val_loss:.6f}).  Saving model ...')\n",
    "        torch.save(model.state_dict(), self.path)\n",
    "        self.val_loss_min = val_loss"
   ]
  },
  {
   "cell_type": "code",
   "execution_count": 24,
   "metadata": {
    "ExecuteTime": {
     "end_time": "2021-04-28T05:10:23.584737Z",
     "start_time": "2021-04-28T05:10:23.561559Z"
    }
   },
   "outputs": [
    {
     "name": "stdout",
     "output_type": "stream",
     "text": [
      "MultivariateLSTM(\n",
      "  (lstm1): LSTM(5, 5, batch_first=True)\n",
      "  (lstm2): LSTM(5, 40, batch_first=True)\n",
      "  (lstm3): LSTM(40, 35, batch_first=True)\n",
      "  (fc1): Linear(in_features=5, out_features=40, bias=True)\n",
      "  (fc2): Linear(in_features=40, out_features=35, bias=True)\n",
      "  (fc3): Linear(in_features=35, out_features=1, bias=True)\n",
      ")\n"
     ]
    }
   ],
   "source": [
    "model = MultivariateLSTM(5, [40, 35]).cuda()\n",
    "\n",
    "lr = 0.0001\n",
    "optimizer = torch.optim.Adam(model.parameters(), lr=lr)\n",
    "scheduler = torch.optim.lr_scheduler.ReduceLROnPlateau(optimizer=optimizer,\n",
    "                                                       mode='min',\n",
    "                                                       factor=0.2\n",
    "                                                    )\n",
    "criterion = nn.MSELoss().cuda()\n",
    "patience = 20\n",
    "n_epochs = 300\n",
    "\n",
    "print(model)"
   ]
  },
  {
   "cell_type": "code",
   "execution_count": 25,
   "metadata": {
    "ExecuteTime": {
     "end_time": "2021-04-28T05:10:24.601671Z",
     "start_time": "2021-04-28T05:10:24.586811Z"
    }
   },
   "outputs": [],
   "source": [
    "def fit(model, batch_size, patience, n_epochs):\n",
    "    \n",
    "    train_losses = []\n",
    "    valid_losses = []\n",
    "    avg_train_losses = []\n",
    "    avg_valid_losses = [] \n",
    "    \n",
    "    early_stopping = EarlyStopping(patience=patience, verbose=True)\n",
    "    \n",
    "    for epoch in range(1, n_epochs + 1):\n",
    "\n",
    "        ###################\n",
    "        # train the model #\n",
    "        ###################\n",
    "        model.train()\n",
    "        for data, target in train_loader:\n",
    "            optimizer.zero_grad()\n",
    "            data, target = data.cuda(), target.cuda()\n",
    "            output = model(data)\n",
    "            loss = criterion(output.squeeze(), target)\n",
    "            loss.backward()\n",
    "            optimizer.step()\n",
    "            train_losses.append(loss.item())\n",
    "\n",
    "        ######################    \n",
    "        # validate the model #\n",
    "        ######################\n",
    "        model.eval()\n",
    "        for data, target in val_loader:\n",
    "            data, target = data.cuda(), target.cuda()\n",
    "            output = model(data)\n",
    "            loss = criterion(output.squeeze(), target)\n",
    "            valid_losses.append(loss.item())\n",
    "\n",
    "        train_loss = np.average(train_losses)\n",
    "        valid_loss = np.average(valid_losses)\n",
    "        avg_train_losses.append(train_loss)\n",
    "        avg_valid_losses.append(valid_loss)\n",
    "            \n",
    "        epoch_len = len(str(n_epochs))\n",
    "        \n",
    "        print_msg = (f'[{epoch:>{epoch_len}}/{n_epochs:>{epoch_len}}] ' +\n",
    "                     f'train_loss: {train_loss:.5f} ' +\n",
    "                     f'valid_loss: {valid_loss:.5f}')\n",
    "        \n",
    "        print(print_msg)\n",
    "        \n",
    "        train_losses = []\n",
    "        valid_losses = []\n",
    "        early_stopping(valid_loss, model)\n",
    "        \n",
    "        if early_stopping.early_stop:\n",
    "            print(\"Early stopping\")\n",
    "            break\n",
    "\n",
    "    model.load_state_dict(torch.load('carr_ser_stackedLSTM.pth'))\n",
    "\n",
    "    return  model, avg_train_losses, avg_valid_losses"
   ]
  },
  {
   "cell_type": "code",
   "execution_count": 26,
   "metadata": {
    "ExecuteTime": {
     "end_time": "2021-04-28T05:10:25.604349Z",
     "start_time": "2021-04-28T05:10:25.598881Z"
    }
   },
   "outputs": [],
   "source": [
    "def evaluate_model(model, test_loader):\n",
    "    test_loss = 0.0\n",
    "    y_test = []\n",
    "    y_hat = []\n",
    "    model.eval()\n",
    "    for data, target in test_loader:\n",
    "        data, target = data.cuda(), target.cuda()\n",
    "        y_test.append(target)\n",
    "        output = model(data)\n",
    "        y_hat.append(output.view(1))\n",
    "        loss = criterion(output.view(1), target)\n",
    "        test_loss += loss.item()\n",
    "    return test_loss/len(test_loader), y_test, y_hat"
   ]
  },
  {
   "cell_type": "code",
   "execution_count": 27,
   "metadata": {
    "ExecuteTime": {
     "end_time": "2021-04-28T05:19:46.964748Z",
     "start_time": "2021-04-28T05:10:26.866280Z"
    },
    "scrolled": true
   },
   "outputs": [
    {
     "name": "stdout",
     "output_type": "stream",
     "text": [
      "[  1/300] train_loss: 0.98419 valid_loss: 0.95097\n",
      "Validation loss decreased (inf --> 0.950969).  Saving model ...\n",
      "[  2/300] train_loss: 0.97730 valid_loss: 0.94784\n",
      "Validation loss decreased (0.950969 --> 0.947840).  Saving model ...\n",
      "[  3/300] train_loss: 0.97388 valid_loss: 0.94447\n",
      "Validation loss decreased (0.947840 --> 0.944474).  Saving model ...\n",
      "[  4/300] train_loss: 0.97008 valid_loss: 0.94057\n",
      "Validation loss decreased (0.944474 --> 0.940572).  Saving model ...\n",
      "[  5/300] train_loss: 0.96548 valid_loss: 0.93583\n",
      "Validation loss decreased (0.940572 --> 0.935828).  Saving model ...\n",
      "[  6/300] train_loss: 0.95967 valid_loss: 0.92978\n",
      "Validation loss decreased (0.935828 --> 0.929775).  Saving model ...\n",
      "[  7/300] train_loss: 0.95202 valid_loss: 0.92162\n",
      "Validation loss decreased (0.929775 --> 0.921621).  Saving model ...\n",
      "[  8/300] train_loss: 0.94148 valid_loss: 0.90995\n",
      "Validation loss decreased (0.921621 --> 0.909952).  Saving model ...\n",
      "[  9/300] train_loss: 0.92623 valid_loss: 0.89214\n",
      "Validation loss decreased (0.909952 --> 0.892140).  Saving model ...\n",
      "[ 10/300] train_loss: 0.90293 valid_loss: 0.86311\n",
      "Validation loss decreased (0.892140 --> 0.863112).  Saving model ...\n",
      "[ 11/300] train_loss: 0.86509 valid_loss: 0.81242\n",
      "Validation loss decreased (0.863112 --> 0.812423).  Saving model ...\n",
      "[ 12/300] train_loss: 0.79972 valid_loss: 0.71804\n",
      "Validation loss decreased (0.812423 --> 0.718037).  Saving model ...\n",
      "[ 13/300] train_loss: 0.68464 valid_loss: 0.54582\n",
      "Validation loss decreased (0.718037 --> 0.545817).  Saving model ...\n",
      "[ 14/300] train_loss: 0.50859 valid_loss: 0.33455\n",
      "Validation loss decreased (0.545817 --> 0.334550).  Saving model ...\n",
      "[ 15/300] train_loss: 0.31908 valid_loss: 0.27122\n",
      "Validation loss decreased (0.334550 --> 0.271221).  Saving model ...\n",
      "[ 16/300] train_loss: 0.19911 valid_loss: 0.32491\n",
      "EarlyStopping counter: 1 out of 20\n",
      "[ 17/300] train_loss: 0.14625 valid_loss: 0.37564\n",
      "EarlyStopping counter: 2 out of 20\n",
      "[ 18/300] train_loss: 0.11915 valid_loss: 0.41139\n",
      "EarlyStopping counter: 3 out of 20\n",
      "[ 19/300] train_loss: 0.10397 valid_loss: 0.43639\n",
      "EarlyStopping counter: 4 out of 20\n",
      "[ 20/300] train_loss: 0.09501 valid_loss: 0.44945\n",
      "EarlyStopping counter: 5 out of 20\n",
      "[ 21/300] train_loss: 0.08939 valid_loss: 0.45187\n",
      "EarlyStopping counter: 6 out of 20\n",
      "[ 22/300] train_loss: 0.08544 valid_loss: 0.44649\n",
      "EarlyStopping counter: 7 out of 20\n",
      "[ 23/300] train_loss: 0.08231 valid_loss: 0.43600\n",
      "EarlyStopping counter: 8 out of 20\n",
      "[ 24/300] train_loss: 0.07961 valid_loss: 0.42244\n",
      "EarlyStopping counter: 9 out of 20\n",
      "[ 25/300] train_loss: 0.07713 valid_loss: 0.40724\n",
      "EarlyStopping counter: 10 out of 20\n",
      "[ 26/300] train_loss: 0.07479 valid_loss: 0.39137\n",
      "EarlyStopping counter: 11 out of 20\n",
      "[ 27/300] train_loss: 0.07254 valid_loss: 0.37538\n",
      "EarlyStopping counter: 12 out of 20\n",
      "[ 28/300] train_loss: 0.07034 valid_loss: 0.35959\n",
      "EarlyStopping counter: 13 out of 20\n",
      "[ 29/300] train_loss: 0.06820 valid_loss: 0.34413\n",
      "EarlyStopping counter: 14 out of 20\n",
      "[ 30/300] train_loss: 0.06608 valid_loss: 0.32906\n",
      "EarlyStopping counter: 15 out of 20\n",
      "[ 31/300] train_loss: 0.06398 valid_loss: 0.31442\n",
      "EarlyStopping counter: 16 out of 20\n",
      "[ 32/300] train_loss: 0.06189 valid_loss: 0.30022\n",
      "EarlyStopping counter: 17 out of 20\n",
      "[ 33/300] train_loss: 0.05981 valid_loss: 0.28649\n",
      "EarlyStopping counter: 18 out of 20\n",
      "[ 34/300] train_loss: 0.05774 valid_loss: 0.27326\n",
      "EarlyStopping counter: 19 out of 20\n",
      "[ 35/300] train_loss: 0.05567 valid_loss: 0.26054\n",
      "Validation loss decreased (0.271221 --> 0.260538).  Saving model ...\n",
      "[ 36/300] train_loss: 0.05362 valid_loss: 0.24834\n",
      "Validation loss decreased (0.260538 --> 0.248342).  Saving model ...\n",
      "[ 37/300] train_loss: 0.05158 valid_loss: 0.23666\n",
      "Validation loss decreased (0.248342 --> 0.236661).  Saving model ...\n",
      "[ 38/300] train_loss: 0.04958 valid_loss: 0.22548\n",
      "Validation loss decreased (0.236661 --> 0.225480).  Saving model ...\n",
      "[ 39/300] train_loss: 0.04762 valid_loss: 0.21478\n",
      "Validation loss decreased (0.225480 --> 0.214782).  Saving model ...\n",
      "[ 40/300] train_loss: 0.04571 valid_loss: 0.20455\n",
      "Validation loss decreased (0.214782 --> 0.204552).  Saving model ...\n",
      "[ 41/300] train_loss: 0.04386 valid_loss: 0.19478\n",
      "Validation loss decreased (0.204552 --> 0.194783).  Saving model ...\n",
      "[ 42/300] train_loss: 0.04209 valid_loss: 0.18548\n",
      "Validation loss decreased (0.194783 --> 0.185476).  Saving model ...\n",
      "[ 43/300] train_loss: 0.04041 valid_loss: 0.17664\n",
      "Validation loss decreased (0.185476 --> 0.176637).  Saving model ...\n",
      "[ 44/300] train_loss: 0.03882 valid_loss: 0.16828\n",
      "Validation loss decreased (0.176637 --> 0.168276).  Saving model ...\n",
      "[ 45/300] train_loss: 0.03733 valid_loss: 0.16041\n",
      "Validation loss decreased (0.168276 --> 0.160405).  Saving model ...\n",
      "[ 46/300] train_loss: 0.03595 valid_loss: 0.15303\n",
      "Validation loss decreased (0.160405 --> 0.153032).  Saving model ...\n",
      "[ 47/300] train_loss: 0.03469 valid_loss: 0.14616\n",
      "Validation loss decreased (0.153032 --> 0.146161).  Saving model ...\n",
      "[ 48/300] train_loss: 0.03353 valid_loss: 0.13979\n",
      "Validation loss decreased (0.146161 --> 0.139795).  Saving model ...\n",
      "[ 49/300] train_loss: 0.03248 valid_loss: 0.13393\n",
      "Validation loss decreased (0.139795 --> 0.133927).  Saving model ...\n",
      "[ 50/300] train_loss: 0.03153 valid_loss: 0.12855\n",
      "Validation loss decreased (0.133927 --> 0.128548).  Saving model ...\n",
      "[ 51/300] train_loss: 0.03069 valid_loss: 0.12364\n",
      "Validation loss decreased (0.128548 --> 0.123643).  Saving model ...\n",
      "[ 52/300] train_loss: 0.02993 valid_loss: 0.11919\n",
      "Validation loss decreased (0.123643 --> 0.119190).  Saving model ...\n",
      "[ 53/300] train_loss: 0.02926 valid_loss: 0.11517\n",
      "Validation loss decreased (0.119190 --> 0.115165).  Saving model ...\n",
      "[ 54/300] train_loss: 0.02865 valid_loss: 0.11154\n",
      "Validation loss decreased (0.115165 --> 0.111540).  Saving model ...\n",
      "[ 55/300] train_loss: 0.02811 valid_loss: 0.10828\n",
      "Validation loss decreased (0.111540 --> 0.108285).  Saving model ...\n",
      "[ 56/300] train_loss: 0.02763 valid_loss: 0.10537\n",
      "Validation loss decreased (0.108285 --> 0.105366).  Saving model ...\n",
      "[ 57/300] train_loss: 0.02718 valid_loss: 0.10275\n",
      "Validation loss decreased (0.105366 --> 0.102752).  Saving model ...\n",
      "[ 58/300] train_loss: 0.02678 valid_loss: 0.10041\n",
      "Validation loss decreased (0.102752 --> 0.100410).  Saving model ...\n",
      "[ 59/300] train_loss: 0.02641 valid_loss: 0.09831\n",
      "Validation loss decreased (0.100410 --> 0.098311).  Saving model ...\n",
      "[ 60/300] train_loss: 0.02607 valid_loss: 0.09642\n",
      "Validation loss decreased (0.098311 --> 0.096424).  Saving model ...\n",
      "[ 61/300] train_loss: 0.02574 valid_loss: 0.09472\n",
      "Validation loss decreased (0.096424 --> 0.094724).  Saving model ...\n",
      "[ 62/300] train_loss: 0.02544 valid_loss: 0.09319\n",
      "Validation loss decreased (0.094724 --> 0.093185).  Saving model ...\n",
      "[ 63/300] train_loss: 0.02515 valid_loss: 0.09179\n",
      "Validation loss decreased (0.093185 --> 0.091789).  Saving model ...\n",
      "[ 64/300] train_loss: 0.02487 valid_loss: 0.09051\n",
      "Validation loss decreased (0.091789 --> 0.090511).  Saving model ...\n",
      "[ 65/300] train_loss: 0.02461 valid_loss: 0.08934\n",
      "Validation loss decreased (0.090511 --> 0.089343).  Saving model ...\n",
      "[ 66/300] train_loss: 0.02436 valid_loss: 0.08826\n",
      "Validation loss decreased (0.089343 --> 0.088258).  Saving model ...\n",
      "[ 67/300] train_loss: 0.02411 valid_loss: 0.08726\n",
      "Validation loss decreased (0.088258 --> 0.087263).  Saving model ...\n",
      "[ 68/300] train_loss: 0.02388 valid_loss: 0.08632\n",
      "Validation loss decreased (0.087263 --> 0.086316).  Saving model ...\n",
      "[ 69/300] train_loss: 0.02365 valid_loss: 0.08546\n",
      "Validation loss decreased (0.086316 --> 0.085459).  Saving model ...\n",
      "[ 70/300] train_loss: 0.02342 valid_loss: 0.08460\n",
      "Validation loss decreased (0.085459 --> 0.084603).  Saving model ...\n",
      "[ 71/300] train_loss: 0.02321 valid_loss: 0.08387\n",
      "Validation loss decreased (0.084603 --> 0.083871).  Saving model ...\n",
      "[ 72/300] train_loss: 0.02299 valid_loss: 0.08305\n",
      "Validation loss decreased (0.083871 --> 0.083047).  Saving model ...\n",
      "[ 73/300] train_loss: 0.02281 valid_loss: 0.08248\n",
      "Validation loss decreased (0.083047 --> 0.082478).  Saving model ...\n",
      "[ 74/300] train_loss: 0.02257 valid_loss: 0.08158\n",
      "Validation loss decreased (0.082478 --> 0.081576).  Saving model ...\n",
      "[ 75/300] train_loss: 0.02245 valid_loss: 0.08135\n",
      "Validation loss decreased (0.081576 --> 0.081350).  Saving model ...\n",
      "[ 76/300] train_loss: 0.02214 valid_loss: 0.08013\n",
      "Validation loss decreased (0.081350 --> 0.080128).  Saving model ...\n",
      "[ 77/300] train_loss: 0.02225 valid_loss: 0.08111\n",
      "EarlyStopping counter: 1 out of 20\n",
      "[ 78/300] train_loss: 0.02181 valid_loss: 0.07951\n",
      "Validation loss decreased (0.080128 --> 0.079509).  Saving model ...\n",
      "[ 79/300] train_loss: 0.02318 valid_loss: 0.08839\n",
      "EarlyStopping counter: 1 out of 20\n",
      "[ 80/300] train_loss: 0.02386 valid_loss: 0.09022\n",
      "EarlyStopping counter: 2 out of 20\n",
      "[ 81/300] train_loss: 0.03528 valid_loss: 0.17128\n",
      "EarlyStopping counter: 3 out of 20\n",
      "[ 82/300] train_loss: 0.04951 valid_loss: 0.11321\n",
      "EarlyStopping counter: 4 out of 20\n",
      "[ 83/300] train_loss: 0.06782 valid_loss: 0.18582\n",
      "EarlyStopping counter: 5 out of 20\n",
      "[ 84/300] train_loss: 0.04635 valid_loss: 0.07922\n",
      "Validation loss decreased (0.079509 --> 0.079217).  Saving model ...\n",
      "[ 85/300] train_loss: 0.03305 valid_loss: 0.10091\n",
      "EarlyStopping counter: 1 out of 20\n",
      "[ 86/300] train_loss: 0.02463 valid_loss: 0.07690\n",
      "Validation loss decreased (0.079217 --> 0.076900).  Saving model ...\n",
      "[ 87/300] train_loss: 0.02312 valid_loss: 0.08360\n",
      "EarlyStopping counter: 1 out of 20\n",
      "[ 88/300] train_loss: 0.02161 valid_loss: 0.07645\n",
      "Validation loss decreased (0.076900 --> 0.076448).  Saving model ...\n",
      "[ 89/300] train_loss: 0.02141 valid_loss: 0.07840\n",
      "EarlyStopping counter: 1 out of 20\n",
      "[ 90/300] train_loss: 0.02087 valid_loss: 0.07510\n",
      "Validation loss decreased (0.076448 --> 0.075100).  Saving model ...\n",
      "[ 91/300] train_loss: 0.02079 valid_loss: 0.07566\n",
      "EarlyStopping counter: 1 out of 20\n",
      "[ 92/300] train_loss: 0.02047 valid_loss: 0.07363\n",
      "Validation loss decreased (0.075100 --> 0.073627).  Saving model ...\n",
      "[ 93/300] train_loss: 0.02040 valid_loss: 0.07375\n",
      "EarlyStopping counter: 1 out of 20\n",
      "[ 94/300] train_loss: 0.02015 valid_loss: 0.07228\n",
      "Validation loss decreased (0.073627 --> 0.072276).  Saving model ...\n",
      "[ 95/300] train_loss: 0.02010 valid_loss: 0.07229\n",
      "EarlyStopping counter: 1 out of 20\n",
      "[ 96/300] train_loss: 0.01987 valid_loss: 0.07109\n",
      "Validation loss decreased (0.072276 --> 0.071093).  Saving model ...\n",
      "[ 97/300] train_loss: 0.01984 valid_loss: 0.07112\n",
      "EarlyStopping counter: 1 out of 20\n",
      "[ 98/300] train_loss: 0.01962 valid_loss: 0.07006\n",
      "Validation loss decreased (0.071093 --> 0.070061).  Saving model ...\n",
      "[ 99/300] train_loss: 0.01961 valid_loss: 0.07016\n",
      "EarlyStopping counter: 1 out of 20\n",
      "[100/300] train_loss: 0.01938 valid_loss: 0.06916\n",
      "Validation loss decreased (0.070061 --> 0.069159).  Saving model ...\n",
      "[101/300] train_loss: 0.01943 valid_loss: 0.06942\n",
      "EarlyStopping counter: 1 out of 20\n",
      "[102/300] train_loss: 0.01918 valid_loss: 0.06839\n",
      "Validation loss decreased (0.069159 --> 0.068395).  Saving model ...\n",
      "[103/300] train_loss: 0.01932 valid_loss: 0.06897\n",
      "EarlyStopping counter: 1 out of 20\n",
      "[104/300] train_loss: 0.01905 valid_loss: 0.06787\n",
      "Validation loss decreased (0.068395 --> 0.067875).  Saving model ...\n",
      "[105/300] train_loss: 0.01939 valid_loss: 0.06917\n",
      "EarlyStopping counter: 1 out of 20\n",
      "[106/300] train_loss: 0.01914 valid_loss: 0.06801\n",
      "EarlyStopping counter: 2 out of 20\n",
      "[107/300] train_loss: 0.02001 valid_loss: 0.07129\n",
      "EarlyStopping counter: 3 out of 20\n",
      "[108/300] train_loss: 0.01998 valid_loss: 0.07000\n",
      "EarlyStopping counter: 4 out of 20\n",
      "[109/300] train_loss: 0.02221 valid_loss: 0.07912\n",
      "EarlyStopping counter: 5 out of 20\n",
      "[110/300] train_loss: 0.02296 valid_loss: 0.07515\n",
      "EarlyStopping counter: 6 out of 20\n",
      "[111/300] train_loss: 0.02768 valid_loss: 0.09525\n",
      "EarlyStopping counter: 7 out of 20\n",
      "[112/300] train_loss: 0.02821 valid_loss: 0.07763\n",
      "EarlyStopping counter: 8 out of 20\n",
      "[113/300] train_loss: 0.03205 valid_loss: 0.09885\n",
      "EarlyStopping counter: 9 out of 20\n",
      "[114/300] train_loss: 0.02798 valid_loss: 0.07126\n",
      "EarlyStopping counter: 10 out of 20\n",
      "[115/300] train_loss: 0.02732 valid_loss: 0.08434\n",
      "EarlyStopping counter: 11 out of 20\n",
      "[116/300] train_loss: 0.02284 valid_loss: 0.06650\n",
      "Validation loss decreased (0.067875 --> 0.066499).  Saving model ...\n",
      "[117/300] train_loss: 0.02196 valid_loss: 0.07357\n",
      "EarlyStopping counter: 1 out of 20\n",
      "[118/300] train_loss: 0.01983 valid_loss: 0.06471\n",
      "Validation loss decreased (0.066499 --> 0.064714).  Saving model ...\n",
      "[119/300] train_loss: 0.01960 valid_loss: 0.06840\n",
      "EarlyStopping counter: 1 out of 20\n",
      "[120/300] train_loss: 0.01861 valid_loss: 0.06364\n",
      "Validation loss decreased (0.064714 --> 0.063643).  Saving model ...\n",
      "[121/300] train_loss: 0.01863 valid_loss: 0.06573\n",
      "EarlyStopping counter: 1 out of 20\n",
      "[122/300] train_loss: 0.01805 valid_loss: 0.06275\n",
      "Validation loss decreased (0.063643 --> 0.062755).  Saving model ...\n",
      "[123/300] train_loss: 0.01817 valid_loss: 0.06415\n",
      "EarlyStopping counter: 1 out of 20\n",
      "[124/300] train_loss: 0.01775 valid_loss: 0.06202\n",
      "Validation loss decreased (0.062755 --> 0.062019).  Saving model ...\n",
      "[125/300] train_loss: 0.01793 valid_loss: 0.06318\n",
      "EarlyStopping counter: 1 out of 20\n",
      "[126/300] train_loss: 0.01758 valid_loss: 0.06146\n",
      "Validation loss decreased (0.062019 --> 0.061465).  Saving model ...\n",
      "[127/300] train_loss: 0.01785 valid_loss: 0.06267\n",
      "EarlyStopping counter: 1 out of 20\n",
      "[128/300] train_loss: 0.01753 valid_loss: 0.06115\n",
      "Validation loss decreased (0.061465 --> 0.061151).  Saving model ...\n",
      "[129/300] train_loss: 0.01793 valid_loss: 0.06271\n",
      "EarlyStopping counter: 1 out of 20\n",
      "[130/300] train_loss: 0.01764 valid_loss: 0.06121\n",
      "EarlyStopping counter: 2 out of 20\n",
      "[131/300] train_loss: 0.01829 valid_loss: 0.06362\n",
      "EarlyStopping counter: 3 out of 20\n",
      "[132/300] train_loss: 0.01806 valid_loss: 0.06187\n",
      "EarlyStopping counter: 4 out of 20\n",
      "[133/300] train_loss: 0.01915 valid_loss: 0.06599\n",
      "EarlyStopping counter: 5 out of 20\n",
      "[134/300] train_loss: 0.01901 valid_loss: 0.06329\n",
      "EarlyStopping counter: 6 out of 20\n",
      "[135/300] train_loss: 0.02072 valid_loss: 0.07017\n",
      "EarlyStopping counter: 7 out of 20\n",
      "[136/300] train_loss: 0.02051 valid_loss: 0.06480\n",
      "EarlyStopping counter: 8 out of 20\n",
      "[137/300] train_loss: 0.02259 valid_loss: 0.07423\n",
      "EarlyStopping counter: 9 out of 20\n",
      "[138/300] train_loss: 0.02170 valid_loss: 0.06464\n",
      "EarlyStopping counter: 10 out of 20\n",
      "[139/300] train_loss: 0.02320 valid_loss: 0.07419\n",
      "EarlyStopping counter: 11 out of 20\n",
      "[140/300] train_loss: 0.02130 valid_loss: 0.06252\n",
      "EarlyStopping counter: 12 out of 20\n",
      "[141/300] train_loss: 0.02179 valid_loss: 0.07013\n",
      "EarlyStopping counter: 13 out of 20\n",
      "[142/300] train_loss: 0.01976 valid_loss: 0.06027\n",
      "Validation loss decreased (0.061151 --> 0.060269).  Saving model ...\n",
      "[143/300] train_loss: 0.01983 valid_loss: 0.06569\n",
      "EarlyStopping counter: 1 out of 20\n",
      "[144/300] train_loss: 0.01835 valid_loss: 0.05873\n",
      "Validation loss decreased (0.060269 --> 0.058732).  Saving model ...\n",
      "[145/300] train_loss: 0.01843 valid_loss: 0.06250\n",
      "EarlyStopping counter: 1 out of 20\n",
      "[146/300] train_loss: 0.01746 valid_loss: 0.05771\n",
      "Validation loss decreased (0.058732 --> 0.057715).  Saving model ...\n",
      "[147/300] train_loss: 0.01762 valid_loss: 0.06049\n",
      "EarlyStopping counter: 1 out of 20\n",
      "[148/300] train_loss: 0.01696 valid_loss: 0.05700\n",
      "Validation loss decreased (0.057715 --> 0.057004).  Saving model ...\n",
      "[149/300] train_loss: 0.01720 valid_loss: 0.05929\n",
      "EarlyStopping counter: 1 out of 20\n",
      "[150/300] train_loss: 0.01670 valid_loss: 0.05652\n",
      "Validation loss decreased (0.057004 --> 0.056525).  Saving model ...\n",
      "[151/300] train_loss: 0.01703 valid_loss: 0.05869\n",
      "EarlyStopping counter: 1 out of 20\n",
      "[152/300] train_loss: 0.01662 valid_loss: 0.05628\n",
      "Validation loss decreased (0.056525 --> 0.056276).  Saving model ...\n",
      "[153/300] train_loss: 0.01706 valid_loss: 0.05865\n",
      "EarlyStopping counter: 1 out of 20\n",
      "[154/300] train_loss: 0.01670 valid_loss: 0.05629\n",
      "EarlyStopping counter: 2 out of 20\n",
      "[155/300] train_loss: 0.01731 valid_loss: 0.05921\n",
      "EarlyStopping counter: 3 out of 20\n",
      "[156/300] train_loss: 0.01698 valid_loss: 0.05659\n",
      "EarlyStopping counter: 4 out of 20\n",
      "[157/300] train_loss: 0.01781 valid_loss: 0.06043\n",
      "EarlyStopping counter: 5 out of 20\n",
      "[158/300] train_loss: 0.01746 valid_loss: 0.05711\n",
      "EarlyStopping counter: 6 out of 20\n",
      "[159/300] train_loss: 0.01852 valid_loss: 0.06211\n",
      "EarlyStopping counter: 7 out of 20\n",
      "[160/300] train_loss: 0.01806 valid_loss: 0.05754\n",
      "EarlyStopping counter: 8 out of 20\n",
      "[161/300] train_loss: 0.01922 valid_loss: 0.06354\n",
      "EarlyStopping counter: 9 out of 20\n",
      "[162/300] train_loss: 0.01848 valid_loss: 0.05742\n",
      "EarlyStopping counter: 10 out of 20\n",
      "[163/300] train_loss: 0.01948 valid_loss: 0.06372\n",
      "EarlyStopping counter: 11 out of 20\n",
      "[164/300] train_loss: 0.01842 valid_loss: 0.05661\n",
      "EarlyStopping counter: 12 out of 20\n",
      "[165/300] train_loss: 0.01909 valid_loss: 0.06243\n",
      "EarlyStopping counter: 13 out of 20\n",
      "[166/300] train_loss: 0.01788 valid_loss: 0.05547\n",
      "Validation loss decreased (0.056276 --> 0.055466).  Saving model ...\n",
      "[167/300] train_loss: 0.01829 valid_loss: 0.06042\n",
      "EarlyStopping counter: 1 out of 20\n",
      "[168/300] train_loss: 0.01719 valid_loss: 0.05440\n",
      "Validation loss decreased (0.055466 --> 0.054399).  Saving model ...\n",
      "[169/300] train_loss: 0.01748 valid_loss: 0.05849\n",
      "EarlyStopping counter: 1 out of 20\n",
      "[170/300] train_loss: 0.01660 valid_loss: 0.05356\n",
      "Validation loss decreased (0.054399 --> 0.053559).  Saving model ...\n",
      "[171/300] train_loss: 0.01688 valid_loss: 0.05702\n",
      "EarlyStopping counter: 1 out of 20\n",
      "[172/300] train_loss: 0.01619 valid_loss: 0.05294\n",
      "Validation loss decreased (0.053559 --> 0.052943).  Saving model ...\n",
      "[173/300] train_loss: 0.01650 valid_loss: 0.05604\n",
      "EarlyStopping counter: 1 out of 20\n",
      "[174/300] train_loss: 0.01594 valid_loss: 0.05252\n",
      "Validation loss decreased (0.052943 --> 0.052525).  Saving model ...\n",
      "[175/300] train_loss: 0.01632 valid_loss: 0.05552\n",
      "EarlyStopping counter: 1 out of 20\n",
      "[176/300] train_loss: 0.01585 valid_loss: 0.05229\n",
      "Validation loss decreased (0.052525 --> 0.052289).  Saving model ...\n",
      "[177/300] train_loss: 0.01631 valid_loss: 0.05543\n",
      "EarlyStopping counter: 1 out of 20\n",
      "[178/300] train_loss: 0.01588 valid_loss: 0.05222\n",
      "Validation loss decreased (0.052289 --> 0.052222).  Saving model ...\n",
      "[179/300] train_loss: 0.01644 valid_loss: 0.05572\n",
      "EarlyStopping counter: 1 out of 20\n",
      "[180/300] train_loss: 0.01603 valid_loss: 0.05229\n",
      "EarlyStopping counter: 2 out of 20\n",
      "[181/300] train_loss: 0.01671 valid_loss: 0.05632\n",
      "EarlyStopping counter: 3 out of 20\n",
      "[182/300] train_loss: 0.01627 valid_loss: 0.05242\n",
      "EarlyStopping counter: 4 out of 20\n",
      "[183/300] train_loss: 0.01703 valid_loss: 0.05701\n",
      "EarlyStopping counter: 5 out of 20\n",
      "[184/300] train_loss: 0.01650 valid_loss: 0.05244\n",
      "EarlyStopping counter: 6 out of 20\n",
      "[185/300] train_loss: 0.01729 valid_loss: 0.05746\n",
      "EarlyStopping counter: 7 out of 20\n",
      "[186/300] train_loss: 0.01663 valid_loss: 0.05222\n",
      "EarlyStopping counter: 8 out of 20\n",
      "[187/300] train_loss: 0.01734 valid_loss: 0.05737\n",
      "EarlyStopping counter: 9 out of 20\n",
      "[188/300] train_loss: 0.01655 valid_loss: 0.05173\n",
      "Validation loss decreased (0.052222 --> 0.051734).  Saving model ...\n",
      "[189/300] train_loss: 0.01713 valid_loss: 0.05669\n",
      "EarlyStopping counter: 1 out of 20\n",
      "[190/300] train_loss: 0.01628 valid_loss: 0.05109\n",
      "Validation loss decreased (0.051734 --> 0.051086).  Saving model ...\n",
      "[191/300] train_loss: 0.01674 valid_loss: 0.05566\n",
      "EarlyStopping counter: 1 out of 20\n",
      "[192/300] train_loss: 0.01593 valid_loss: 0.05043\n",
      "Validation loss decreased (0.051086 --> 0.050426).  Saving model ...\n",
      "[193/300] train_loss: 0.01631 valid_loss: 0.05459\n",
      "EarlyStopping counter: 1 out of 20\n",
      "[194/300] train_loss: 0.01559 valid_loss: 0.04985\n",
      "Validation loss decreased (0.050426 --> 0.049849).  Saving model ...\n",
      "[195/300] train_loss: 0.01594 valid_loss: 0.05368\n",
      "EarlyStopping counter: 1 out of 20\n",
      "[196/300] train_loss: 0.01532 valid_loss: 0.04939\n",
      "Validation loss decreased (0.049849 --> 0.049392).  Saving model ...\n",
      "[197/300] train_loss: 0.01569 valid_loss: 0.05304\n",
      "EarlyStopping counter: 1 out of 20\n",
      "[198/300] train_loss: 0.01515 valid_loss: 0.04906\n",
      "Validation loss decreased (0.049392 --> 0.049059).  Saving model ...\n",
      "[199/300] train_loss: 0.01555 valid_loss: 0.05268\n",
      "EarlyStopping counter: 1 out of 20\n",
      "[200/300] train_loss: 0.01507 valid_loss: 0.04884\n",
      "Validation loss decreased (0.049059 --> 0.048843).  Saving model ...\n",
      "[201/300] train_loss: 0.01553 valid_loss: 0.05258\n",
      "EarlyStopping counter: 1 out of 20\n",
      "[202/300] train_loss: 0.01507 valid_loss: 0.04872\n",
      "Validation loss decreased (0.048843 --> 0.048724).  Saving model ...\n",
      "[203/300] train_loss: 0.01559 valid_loss: 0.05270\n",
      "EarlyStopping counter: 1 out of 20\n",
      "[204/300] train_loss: 0.01514 valid_loss: 0.04866\n",
      "Validation loss decreased (0.048724 --> 0.048665).  Saving model ...\n",
      "[205/300] train_loss: 0.01571 valid_loss: 0.05294\n",
      "EarlyStopping counter: 1 out of 20\n",
      "[206/300] train_loss: 0.01524 valid_loss: 0.04860\n",
      "Validation loss decreased (0.048665 --> 0.048604).  Saving model ...\n",
      "[207/300] train_loss: 0.01584 valid_loss: 0.05316\n",
      "EarlyStopping counter: 1 out of 20\n",
      "[208/300] train_loss: 0.01531 valid_loss: 0.04847\n",
      "Validation loss decreased (0.048604 --> 0.048474).  Saving model ...\n",
      "[209/300] train_loss: 0.01591 valid_loss: 0.05321\n",
      "EarlyStopping counter: 1 out of 20\n",
      "[210/300] train_loss: 0.01532 valid_loss: 0.04823\n",
      "Validation loss decreased (0.048474 --> 0.048227).  Saving model ...\n",
      "[211/300] train_loss: 0.01587 valid_loss: 0.05299\n",
      "EarlyStopping counter: 1 out of 20\n",
      "[212/300] train_loss: 0.01522 valid_loss: 0.04787\n",
      "Validation loss decreased (0.048227 --> 0.047866).  Saving model ...\n",
      "[213/300] train_loss: 0.01571 valid_loss: 0.05252\n",
      "EarlyStopping counter: 1 out of 20\n",
      "[214/300] train_loss: 0.01505 valid_loss: 0.04744\n",
      "Validation loss decreased (0.047866 --> 0.047437).  Saving model ...\n",
      "[215/300] train_loss: 0.01548 valid_loss: 0.05190\n",
      "EarlyStopping counter: 1 out of 20\n",
      "[216/300] train_loss: 0.01484 valid_loss: 0.04700\n",
      "Validation loss decreased (0.047437 --> 0.047004).  Saving model ...\n",
      "[217/300] train_loss: 0.01523 valid_loss: 0.05126\n",
      "EarlyStopping counter: 1 out of 20\n",
      "[218/300] train_loss: 0.01464 valid_loss: 0.04661\n",
      "Validation loss decreased (0.047004 --> 0.046610).  Saving model ...\n",
      "[219/300] train_loss: 0.01501 valid_loss: 0.05071\n",
      "EarlyStopping counter: 1 out of 20\n",
      "[220/300] train_loss: 0.01447 valid_loss: 0.04628\n",
      "Validation loss decreased (0.046610 --> 0.046281).  Saving model ...\n",
      "[221/300] train_loss: 0.01486 valid_loss: 0.05031\n",
      "EarlyStopping counter: 1 out of 20\n",
      "[222/300] train_loss: 0.01436 valid_loss: 0.04602\n",
      "Validation loss decreased (0.046281 --> 0.046024).  Saving model ...\n",
      "[223/300] train_loss: 0.01477 valid_loss: 0.05007\n",
      "EarlyStopping counter: 1 out of 20\n",
      "[224/300] train_loss: 0.01430 valid_loss: 0.04583\n",
      "Validation loss decreased (0.046024 --> 0.045833).  Saving model ...\n",
      "[225/300] train_loss: 0.01474 valid_loss: 0.04997\n",
      "EarlyStopping counter: 1 out of 20\n",
      "[226/300] train_loss: 0.01429 valid_loss: 0.04569\n",
      "Validation loss decreased (0.045833 --> 0.045689).  Saving model ...\n",
      "[227/300] train_loss: 0.01476 valid_loss: 0.04998\n",
      "EarlyStopping counter: 1 out of 20\n",
      "[228/300] train_loss: 0.01431 valid_loss: 0.04557\n",
      "Validation loss decreased (0.045689 --> 0.045566).  Saving model ...\n",
      "[229/300] train_loss: 0.01480 valid_loss: 0.05002\n",
      "EarlyStopping counter: 1 out of 20\n",
      "[230/300] train_loss: 0.01433 valid_loss: 0.04543\n",
      "Validation loss decreased (0.045566 --> 0.045429).  Saving model ...\n",
      "[231/300] train_loss: 0.01483 valid_loss: 0.05001\n",
      "EarlyStopping counter: 1 out of 20\n",
      "[232/300] train_loss: 0.01433 valid_loss: 0.04525\n",
      "Validation loss decreased (0.045429 --> 0.045249).  Saving model ...\n",
      "[233/300] train_loss: 0.01481 valid_loss: 0.04990\n",
      "EarlyStopping counter: 1 out of 20\n",
      "[234/300] train_loss: 0.01428 valid_loss: 0.04501\n",
      "Validation loss decreased (0.045249 --> 0.045012).  Saving model ...\n",
      "[235/300] train_loss: 0.01474 valid_loss: 0.04965\n",
      "EarlyStopping counter: 1 out of 20\n",
      "[236/300] train_loss: 0.01419 valid_loss: 0.04473\n",
      "Validation loss decreased (0.045012 --> 0.044727).  Saving model ...\n",
      "[237/300] train_loss: 0.01461 valid_loss: 0.04929\n",
      "EarlyStopping counter: 1 out of 20\n",
      "[238/300] train_loss: 0.01407 valid_loss: 0.04442\n",
      "Validation loss decreased (0.044727 --> 0.044417).  Saving model ...\n",
      "[239/300] train_loss: 0.01446 valid_loss: 0.04887\n",
      "EarlyStopping counter: 1 out of 20\n",
      "[240/300] train_loss: 0.01393 valid_loss: 0.04411\n",
      "Validation loss decreased (0.044417 --> 0.044110).  Saving model ...\n",
      "[241/300] train_loss: 0.01430 valid_loss: 0.04846\n",
      "EarlyStopping counter: 1 out of 20\n",
      "[242/300] train_loss: 0.01380 valid_loss: 0.04383\n",
      "Validation loss decreased (0.044110 --> 0.043828).  Saving model ...\n",
      "[243/300] train_loss: 0.01417 valid_loss: 0.04811\n",
      "EarlyStopping counter: 1 out of 20\n",
      "[244/300] train_loss: 0.01369 valid_loss: 0.04358\n",
      "Validation loss decreased (0.043828 --> 0.043582).  Saving model ...\n",
      "[245/300] train_loss: 0.01407 valid_loss: 0.04784\n",
      "EarlyStopping counter: 1 out of 20\n",
      "[246/300] train_loss: 0.01362 valid_loss: 0.04338\n",
      "Validation loss decreased (0.043582 --> 0.043376).  Saving model ...\n",
      "[247/300] train_loss: 0.01401 valid_loss: 0.04766\n",
      "EarlyStopping counter: 1 out of 20\n",
      "[248/300] train_loss: 0.01357 valid_loss: 0.04320\n",
      "Validation loss decreased (0.043376 --> 0.043204).  Saving model ...\n",
      "[249/300] train_loss: 0.01397 valid_loss: 0.04755\n",
      "EarlyStopping counter: 1 out of 20\n",
      "[250/300] train_loss: 0.01355 valid_loss: 0.04305\n",
      "Validation loss decreased (0.043204 --> 0.043052).  Saving model ...\n",
      "[251/300] train_loss: 0.01396 valid_loss: 0.04748\n",
      "EarlyStopping counter: 1 out of 20\n",
      "[252/300] train_loss: 0.01353 valid_loss: 0.04290\n",
      "Validation loss decreased (0.043052 --> 0.042905).  Saving model ...\n",
      "[253/300] train_loss: 0.01396 valid_loss: 0.04741\n",
      "EarlyStopping counter: 1 out of 20\n",
      "[254/300] train_loss: 0.01352 valid_loss: 0.04274\n",
      "Validation loss decreased (0.042905 --> 0.042745).  Saving model ...\n",
      "[255/300] train_loss: 0.01393 valid_loss: 0.04730\n",
      "EarlyStopping counter: 1 out of 20\n",
      "[256/300] train_loss: 0.01348 valid_loss: 0.04256\n",
      "Validation loss decreased (0.042745 --> 0.042561).  Saving model ...\n",
      "[257/300] train_loss: 0.01389 valid_loss: 0.04712\n",
      "EarlyStopping counter: 1 out of 20\n",
      "[258/300] train_loss: 0.01342 valid_loss: 0.04235\n",
      "Validation loss decreased (0.042561 --> 0.042351).  Saving model ...\n",
      "[259/300] train_loss: 0.01381 valid_loss: 0.04689\n",
      "EarlyStopping counter: 1 out of 20\n",
      "[260/300] train_loss: 0.01334 valid_loss: 0.04212\n",
      "Validation loss decreased (0.042351 --> 0.042121).  Saving model ...\n",
      "[261/300] train_loss: 0.01371 valid_loss: 0.04660\n",
      "EarlyStopping counter: 1 out of 20\n",
      "[262/300] train_loss: 0.01325 valid_loss: 0.04188\n",
      "Validation loss decreased (0.042121 --> 0.041885).  Saving model ...\n",
      "[263/300] train_loss: 0.01361 valid_loss: 0.04630\n",
      "EarlyStopping counter: 1 out of 20\n",
      "[264/300] train_loss: 0.01315 valid_loss: 0.04165\n",
      "Validation loss decreased (0.041885 --> 0.041654).  Saving model ...\n",
      "[265/300] train_loss: 0.01350 valid_loss: 0.04602\n",
      "EarlyStopping counter: 1 out of 20\n",
      "[266/300] train_loss: 0.01307 valid_loss: 0.04144\n",
      "Validation loss decreased (0.041654 --> 0.041438).  Saving model ...\n",
      "[267/300] train_loss: 0.01341 valid_loss: 0.04577\n",
      "EarlyStopping counter: 1 out of 20\n",
      "[268/300] train_loss: 0.01299 valid_loss: 0.04124\n",
      "Validation loss decreased (0.041438 --> 0.041244).  Saving model ...\n",
      "[269/300] train_loss: 0.01334 valid_loss: 0.04556\n",
      "EarlyStopping counter: 1 out of 20\n",
      "[270/300] train_loss: 0.01293 valid_loss: 0.04107\n",
      "Validation loss decreased (0.041244 --> 0.041069).  Saving model ...\n",
      "[271/300] train_loss: 0.01328 valid_loss: 0.04540\n",
      "EarlyStopping counter: 1 out of 20\n",
      "[272/300] train_loss: 0.01289 valid_loss: 0.04091\n",
      "Validation loss decreased (0.041069 --> 0.040912).  Saving model ...\n",
      "[273/300] train_loss: 0.01325 valid_loss: 0.04527\n",
      "EarlyStopping counter: 1 out of 20\n",
      "[274/300] train_loss: 0.01286 valid_loss: 0.04076\n",
      "Validation loss decreased (0.040912 --> 0.040763).  Saving model ...\n",
      "[275/300] train_loss: 0.01322 valid_loss: 0.04516\n",
      "EarlyStopping counter: 1 out of 20\n",
      "[276/300] train_loss: 0.01282 valid_loss: 0.04061\n",
      "Validation loss decreased (0.040763 --> 0.040614).  Saving model ...\n",
      "[277/300] train_loss: 0.01319 valid_loss: 0.04504\n",
      "EarlyStopping counter: 1 out of 20\n",
      "[278/300] train_loss: 0.01279 valid_loss: 0.04046\n",
      "Validation loss decreased (0.040614 --> 0.040458).  Saving model ...\n",
      "[279/300] train_loss: 0.01314 valid_loss: 0.04489\n",
      "EarlyStopping counter: 1 out of 20\n",
      "[280/300] train_loss: 0.01274 valid_loss: 0.04029\n",
      "Validation loss decreased (0.040458 --> 0.040291).  Saving model ...\n",
      "[281/300] train_loss: 0.01309 valid_loss: 0.04471\n",
      "EarlyStopping counter: 1 out of 20\n",
      "[282/300] train_loss: 0.01269 valid_loss: 0.04011\n",
      "Validation loss decreased (0.040291 --> 0.040112).  Saving model ...\n",
      "[283/300] train_loss: 0.01302 valid_loss: 0.04451\n",
      "EarlyStopping counter: 1 out of 20\n",
      "[284/300] train_loss: 0.01262 valid_loss: 0.03993\n",
      "Validation loss decreased (0.040112 --> 0.039926).  Saving model ...\n",
      "[285/300] train_loss: 0.01295 valid_loss: 0.04428\n",
      "EarlyStopping counter: 1 out of 20\n",
      "[286/300] train_loss: 0.01255 valid_loss: 0.03974\n",
      "Validation loss decreased (0.039926 --> 0.039739).  Saving model ...\n",
      "[287/300] train_loss: 0.01287 valid_loss: 0.04405\n",
      "EarlyStopping counter: 1 out of 20\n",
      "[288/300] train_loss: 0.01248 valid_loss: 0.03956\n",
      "Validation loss decreased (0.039739 --> 0.039556).  Saving model ...\n",
      "[289/300] train_loss: 0.01279 valid_loss: 0.04383\n",
      "EarlyStopping counter: 1 out of 20\n",
      "[290/300] train_loss: 0.01241 valid_loss: 0.03938\n",
      "Validation loss decreased (0.039556 --> 0.039383).  Saving model ...\n",
      "[291/300] train_loss: 0.01272 valid_loss: 0.04364\n",
      "EarlyStopping counter: 1 out of 20\n",
      "[292/300] train_loss: 0.01235 valid_loss: 0.03922\n",
      "Validation loss decreased (0.039383 --> 0.039222).  Saving model ...\n",
      "[293/300] train_loss: 0.01266 valid_loss: 0.04346\n",
      "EarlyStopping counter: 1 out of 20\n",
      "[294/300] train_loss: 0.01230 valid_loss: 0.03907\n",
      "Validation loss decreased (0.039222 --> 0.039071).  Saving model ...\n",
      "[295/300] train_loss: 0.01261 valid_loss: 0.04331\n",
      "EarlyStopping counter: 1 out of 20\n",
      "[296/300] train_loss: 0.01226 valid_loss: 0.03893\n",
      "Validation loss decreased (0.039071 --> 0.038929).  Saving model ...\n",
      "[297/300] train_loss: 0.01257 valid_loss: 0.04318\n",
      "EarlyStopping counter: 1 out of 20\n",
      "[298/300] train_loss: 0.01222 valid_loss: 0.03879\n",
      "Validation loss decreased (0.038929 --> 0.038792).  Saving model ...\n",
      "[299/300] train_loss: 0.01253 valid_loss: 0.04304\n",
      "EarlyStopping counter: 1 out of 20\n",
      "[300/300] train_loss: 0.01219 valid_loss: 0.03865\n",
      "Validation loss decreased (0.038792 --> 0.038655).  Saving model ...\n"
     ]
    }
   ],
   "source": [
    "model, train_loss, valid_loss = fit(model, batch_size, patience, n_epochs)"
   ]
  },
  {
   "cell_type": "code",
   "execution_count": 11,
   "metadata": {
    "ExecuteTime": {
     "end_time": "2021-04-14T14:05:12.841612Z",
     "start_time": "2021-04-14T14:05:12.833174Z"
    }
   },
   "outputs": [
    {
     "data": {
      "text/plain": [
       "<All keys matched successfully>"
      ]
     },
     "execution_count": 11,
     "metadata": {},
     "output_type": "execute_result"
    }
   ],
   "source": [
    "model.load_state_dict(torch.load('carr_ser_stackedLSTM.pth'))"
   ]
  },
  {
   "cell_type": "code",
   "execution_count": 28,
   "metadata": {
    "ExecuteTime": {
     "end_time": "2021-04-28T05:20:13.352756Z",
     "start_time": "2021-04-28T05:19:47.473649Z"
    }
   },
   "outputs": [],
   "source": [
    "test_loss, y_test, y_hat = evaluate_model(model, test_loader)"
   ]
  },
  {
   "cell_type": "code",
   "execution_count": 31,
   "metadata": {
    "ExecuteTime": {
     "end_time": "2021-04-28T05:22:19.479332Z",
     "start_time": "2021-04-28T05:22:19.474535Z"
    }
   },
   "outputs": [
    {
     "data": {
      "text/plain": [
       "0.14020268761376617"
      ]
     },
     "execution_count": 31,
     "metadata": {},
     "output_type": "execute_result"
    }
   ],
   "source": [
    "test_loss"
   ]
  },
  {
   "cell_type": "code",
   "execution_count": 29,
   "metadata": {
    "ExecuteTime": {
     "end_time": "2021-04-28T05:20:32.184758Z",
     "start_time": "2021-04-28T05:20:31.918241Z"
    }
   },
   "outputs": [],
   "source": [
    "target, predicted = list(), list()\n",
    "for i in range(len(y_test)):\n",
    "    target.append(y_test[i].item())\n",
    "    predicted.append(y_hat[i][0].item())"
   ]
  },
  {
   "cell_type": "code",
   "execution_count": 30,
   "metadata": {
    "ExecuteTime": {
     "end_time": "2021-04-28T05:20:52.228737Z",
     "start_time": "2021-04-28T05:20:51.021368Z"
    }
   },
   "outputs": [
    {
     "data": {
      "image/png": "[encoded data removed]",
      "text/plain": [
       "<Figure size 720x216 with 1 Axes>"
      ]
     },
     "metadata": {
      "needs_background": "light"
     },
     "output_type": "display_data"
    }
   ],
   "source": [
    "plt.figure(figsize=(10, 3))\n",
    "plt.plot(target[:200], label='target')\n",
    "plt.plot(predicted[:200], label='predicted')\n",
    "plt.legend(loc='upper left', fontsize=15)\n",
    "plt.show()"
   ]
  },
  {
   "cell_type": "code",
   "execution_count": 32,
   "metadata": {
    "ExecuteTime": {
     "end_time": "2021-04-28T05:32:23.684743Z",
     "start_time": "2021-04-28T05:32:22.446061Z"
    }
   },
   "outputs": [
    {
     "data": {
      "image/png": "[encoded data removed]",
      "text/plain": [
       "<Figure size 720x360 with 1 Axes>"
      ]
     },
     "metadata": {
      "needs_background": "light"
     },
     "output_type": "display_data"
    }
   ],
   "source": [
    "plt.figure(figsize=(10, 5))\n",
    "plt.plot(target, label='target')\n",
    "plt.plot(predicted, label='predicted')\n",
    "plt.legend()\n",
    "plt.show()"
   ]
  },
  {
   "cell_type": "code",
   "execution_count": null,
   "metadata": {},
   "outputs": [],
   "source": []
  }
 ],
 "metadata": {
  "kernelspec": {
   "display_name": "Python 3",
   "language": "python",
   "name": "python3"
  },
  "language_info": {
   "codemirror_mode": {
    "name": "ipython",
    "version": 3
   },
   "file_extension": ".py",
   "mimetype": "text/x-python",
   "name": "python",
   "nbconvert_exporter": "python",
   "pygments_lexer": "ipython3",
   "version": "3.8.5"
  },
  "toc": {
   "base_numbering": 1,
   "nav_menu": {},
   "number_sections": true,
   "sideBar": true,
   "skip_h1_title": false,
   "title_cell": "Table of Contents",
   "title_sidebar": "Contents",
   "toc_cell": false,
   "toc_position": {},
   "toc_section_display": true,
   "toc_window_display": false
  },
  "varInspector": {
   "cols": {
    "lenName": 16,
    "lenType": 16,
    "lenVar": 40
   },
   "kernels_config": {
    "python": {
     "delete_cmd_postfix": "",
     "delete_cmd_prefix": "del ",
     "library": "var_list.py",
     "varRefreshCmd": "print(var_dic_list())"
    },
    "r": {
     "delete_cmd_postfix": ") ",
     "delete_cmd_prefix": "rm(",
     "library": "var_list.r",
     "varRefreshCmd": "cat(var_dic_list()) "
    }
   },
   "types_to_exclude": [
    "module",
    "function",
    "builtin_function_or_method",
    "instance",
    "_Feature"
   ],
   "window_display": false
  }
 },
 "nbformat": 4,
 "nbformat_minor": 2
}
