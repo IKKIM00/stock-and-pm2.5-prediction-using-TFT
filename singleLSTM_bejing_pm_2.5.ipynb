{
 "cells": [
  {
   "cell_type": "code",
   "execution_count": 1,
   "metadata": {
    "ExecuteTime": {
     "end_time": "2021-04-28T05:35:43.115359Z",
     "start_time": "2021-04-28T05:35:38.714576Z"
    }
   },
   "outputs": [],
   "source": [
    "import os\n",
    "import pandas as pd\n",
    "import numpy as np\n",
    "import matplotlib.pyplot as plt\n",
    "from tqdm import tqdm\n",
    "import datetime as dt\n",
    "\n",
    "from sklearn.model_selection import train_test_split\n",
    "from sklearn.metrics import confusion_matrix\n",
    "from sklearn.metrics import accuracy_score, f1_score, recall_score, precision_score\n",
    "from sklearn.preprocessing import StandardScaler, LabelEncoder\n",
    "\n",
    "import torch\n",
    "import torchvision\n",
    "import torch.nn as nn\n",
    "from torch.nn import functional as F\n",
    "from torch.utils.tensorboard import SummaryWriter\n",
    "from torch.utils.data import DataLoader, random_split, TensorDataset\n",
    "\n",
    "%matplotlib inline"
   ]
  },
  {
   "cell_type": "code",
   "execution_count": 2,
   "metadata": {
    "ExecuteTime": {
     "end_time": "2021-04-28T05:35:43.441321Z",
     "start_time": "2021-04-28T05:35:43.177481Z"
    }
   },
   "outputs": [
    {
     "data": {
      "text/plain": [
       "'cuda:2'"
      ]
     },
     "execution_count": 2,
     "metadata": {},
     "output_type": "execute_result"
    }
   ],
   "source": [
    "np.random.seed(42)\n",
    "device = 'cuda:2' if torch.cuda.is_available() else 'cpu'\n",
    "device"
   ]
  },
  {
   "cell_type": "markdown",
   "metadata": {},
   "source": [
    "## Data Preprocessing"
   ]
  },
  {
   "cell_type": "code",
   "execution_count": 3,
   "metadata": {
    "ExecuteTime": {
     "end_time": "2021-04-28T05:35:44.756745Z",
     "start_time": "2021-04-28T05:35:44.370178Z"
    },
    "scrolled": true
   },
   "outputs": [
    {
     "name": "stdout",
     "output_type": "stream",
     "text": [
      "<class 'pandas.core.frame.DataFrame'>\n",
      "Int64Index: 43824 entries, 1 to 43824\n",
      "Data columns (total 12 columns):\n",
      " #   Column  Non-Null Count  Dtype  \n",
      "---  ------  --------------  -----  \n",
      " 0   year    43824 non-null  int64  \n",
      " 1   month   43824 non-null  int64  \n",
      " 2   day     43824 non-null  int64  \n",
      " 3   hour    43824 non-null  int64  \n",
      " 4   pm2.5   43824 non-null  float64\n",
      " 5   DEWP    43824 non-null  int64  \n",
      " 6   TEMP    43824 non-null  float64\n",
      " 7   PRES    43824 non-null  float64\n",
      " 8   cbwd    43824 non-null  object \n",
      " 9   Iws     43824 non-null  float64\n",
      " 10  Is      43824 non-null  int64  \n",
      " 11  Ir      43824 non-null  int64  \n",
      "dtypes: float64(4), int64(7), object(1)\n",
      "memory usage: 4.3+ MB\n"
     ]
    }
   ],
   "source": [
    "data = pd.read_csv('PRSA_data_2010.1.1-2014.12.31.csv', index_col=0)\n",
    "data = data.fillna(0)\n",
    "data.info()"
   ]
  },
  {
   "cell_type": "code",
   "execution_count": 4,
   "metadata": {
    "ExecuteTime": {
     "end_time": "2021-04-28T05:35:45.191025Z",
     "start_time": "2021-04-28T05:35:45.090861Z"
    }
   },
   "outputs": [
    {
     "data": {
      "text/html": [
       "<div>\n",
       "<style scoped>\n",
       "    .dataframe tbody tr th:only-of-type {\n",
       "        vertical-align: middle;\n",
       "    }\n",
       "\n",
       "    .dataframe tbody tr th {\n",
       "        vertical-align: top;\n",
       "    }\n",
       "\n",
       "    .dataframe thead th {\n",
       "        text-align: right;\n",
       "    }\n",
       "</style>\n",
       "<table border=\"1\" class=\"dataframe\">\n",
       "  <thead>\n",
       "    <tr style=\"text-align: right;\">\n",
       "      <th></th>\n",
       "      <th>pm2.5</th>\n",
       "      <th>DEWP</th>\n",
       "      <th>TEMP</th>\n",
       "      <th>PRES</th>\n",
       "      <th>Iws</th>\n",
       "      <th>Is</th>\n",
       "      <th>Ir</th>\n",
       "    </tr>\n",
       "  </thead>\n",
       "  <tbody>\n",
       "    <tr>\n",
       "      <th>0</th>\n",
       "      <td>-1.018534</td>\n",
       "      <td>-1.580878</td>\n",
       "      <td>-1.922250</td>\n",
       "      <td>0.443328</td>\n",
       "      <td>-0.441894</td>\n",
       "      <td>-0.069353</td>\n",
       "      <td>-0.137667</td>\n",
       "    </tr>\n",
       "    <tr>\n",
       "      <th>1</th>\n",
       "      <td>-1.018534</td>\n",
       "      <td>-1.580878</td>\n",
       "      <td>-2.004228</td>\n",
       "      <td>0.345943</td>\n",
       "      <td>-0.379306</td>\n",
       "      <td>-0.069353</td>\n",
       "      <td>-0.137667</td>\n",
       "    </tr>\n",
       "    <tr>\n",
       "      <th>2</th>\n",
       "      <td>-1.018534</td>\n",
       "      <td>-1.580878</td>\n",
       "      <td>-1.922250</td>\n",
       "      <td>0.248559</td>\n",
       "      <td>-0.343514</td>\n",
       "      <td>-0.069353</td>\n",
       "      <td>-0.137667</td>\n",
       "    </tr>\n",
       "    <tr>\n",
       "      <th>3</th>\n",
       "      <td>-1.018534</td>\n",
       "      <td>-1.580878</td>\n",
       "      <td>-2.168183</td>\n",
       "      <td>0.248559</td>\n",
       "      <td>-0.280926</td>\n",
       "      <td>-0.069353</td>\n",
       "      <td>-0.137667</td>\n",
       "    </tr>\n",
       "    <tr>\n",
       "      <th>4</th>\n",
       "      <td>-1.018534</td>\n",
       "      <td>-1.511594</td>\n",
       "      <td>-2.004228</td>\n",
       "      <td>0.151174</td>\n",
       "      <td>-0.218339</td>\n",
       "      <td>-0.069353</td>\n",
       "      <td>-0.137667</td>\n",
       "    </tr>\n",
       "  </tbody>\n",
       "</table>\n",
       "</div>"
      ],
      "text/plain": [
       "      pm2.5      DEWP      TEMP      PRES       Iws        Is        Ir\n",
       "0 -1.018534 -1.580878 -1.922250  0.443328 -0.441894 -0.069353 -0.137667\n",
       "1 -1.018534 -1.580878 -2.004228  0.345943 -0.379306 -0.069353 -0.137667\n",
       "2 -1.018534 -1.580878 -1.922250  0.248559 -0.343514 -0.069353 -0.137667\n",
       "3 -1.018534 -1.580878 -2.168183  0.248559 -0.280926 -0.069353 -0.137667\n",
       "4 -1.018534 -1.511594 -2.004228  0.151174 -0.218339 -0.069353 -0.137667"
      ]
     },
     "execution_count": 4,
     "metadata": {},
     "output_type": "execute_result"
    }
   ],
   "source": [
    "columns = ['pm2.5', 'DEWP', 'TEMP', 'PRES', 'Iws', 'Is', 'Ir']\n",
    "scaler = StandardScaler()\n",
    "transformed_data = data[['pm2.5', 'DEWP', 'TEMP', 'PRES', 'Iws', 'Is', 'Ir']]\n",
    "transformed_data = scaler.fit_transform(transformed_data)\n",
    "transformed_data = pd.DataFrame(transformed_data, columns=columns)\n",
    "transformed_data.head()"
   ]
  },
  {
   "cell_type": "code",
   "execution_count": 5,
   "metadata": {
    "ExecuteTime": {
     "end_time": "2021-04-28T05:35:45.901307Z",
     "start_time": "2021-04-28T05:35:45.795743Z"
    }
   },
   "outputs": [
    {
     "data": {
      "text/html": [
       "<div>\n",
       "<style scoped>\n",
       "    .dataframe tbody tr th:only-of-type {\n",
       "        vertical-align: middle;\n",
       "    }\n",
       "\n",
       "    .dataframe tbody tr th {\n",
       "        vertical-align: top;\n",
       "    }\n",
       "\n",
       "    .dataframe thead th {\n",
       "        text-align: right;\n",
       "    }\n",
       "</style>\n",
       "<table border=\"1\" class=\"dataframe\">\n",
       "  <thead>\n",
       "    <tr style=\"text-align: right;\">\n",
       "      <th></th>\n",
       "      <th>pm2.5</th>\n",
       "      <th>DEWP</th>\n",
       "      <th>TEMP</th>\n",
       "      <th>PRES</th>\n",
       "      <th>Iws</th>\n",
       "      <th>Is</th>\n",
       "      <th>Ir</th>\n",
       "      <th>cbwd</th>\n",
       "    </tr>\n",
       "  </thead>\n",
       "  <tbody>\n",
       "    <tr>\n",
       "      <th>0</th>\n",
       "      <td>-1.018534</td>\n",
       "      <td>-1.580878</td>\n",
       "      <td>-1.922250</td>\n",
       "      <td>0.443328</td>\n",
       "      <td>-0.441894</td>\n",
       "      <td>-0.069353</td>\n",
       "      <td>-0.137667</td>\n",
       "      <td>1</td>\n",
       "    </tr>\n",
       "    <tr>\n",
       "      <th>1</th>\n",
       "      <td>-1.018534</td>\n",
       "      <td>-1.580878</td>\n",
       "      <td>-2.004228</td>\n",
       "      <td>0.345943</td>\n",
       "      <td>-0.379306</td>\n",
       "      <td>-0.069353</td>\n",
       "      <td>-0.137667</td>\n",
       "      <td>1</td>\n",
       "    </tr>\n",
       "    <tr>\n",
       "      <th>2</th>\n",
       "      <td>-1.018534</td>\n",
       "      <td>-1.580878</td>\n",
       "      <td>-1.922250</td>\n",
       "      <td>0.248559</td>\n",
       "      <td>-0.343514</td>\n",
       "      <td>-0.069353</td>\n",
       "      <td>-0.137667</td>\n",
       "      <td>1</td>\n",
       "    </tr>\n",
       "    <tr>\n",
       "      <th>3</th>\n",
       "      <td>-1.018534</td>\n",
       "      <td>-1.580878</td>\n",
       "      <td>-2.168183</td>\n",
       "      <td>0.248559</td>\n",
       "      <td>-0.280926</td>\n",
       "      <td>-0.069353</td>\n",
       "      <td>-0.137667</td>\n",
       "      <td>1</td>\n",
       "    </tr>\n",
       "    <tr>\n",
       "      <th>4</th>\n",
       "      <td>-1.018534</td>\n",
       "      <td>-1.511594</td>\n",
       "      <td>-2.004228</td>\n",
       "      <td>0.151174</td>\n",
       "      <td>-0.218339</td>\n",
       "      <td>-0.069353</td>\n",
       "      <td>-0.137667</td>\n",
       "      <td>1</td>\n",
       "    </tr>\n",
       "  </tbody>\n",
       "</table>\n",
       "</div>"
      ],
      "text/plain": [
       "      pm2.5      DEWP      TEMP      PRES       Iws        Is        Ir  cbwd\n",
       "0 -1.018534 -1.580878 -1.922250  0.443328 -0.441894 -0.069353 -0.137667     1\n",
       "1 -1.018534 -1.580878 -2.004228  0.345943 -0.379306 -0.069353 -0.137667     1\n",
       "2 -1.018534 -1.580878 -1.922250  0.248559 -0.343514 -0.069353 -0.137667     1\n",
       "3 -1.018534 -1.580878 -2.168183  0.248559 -0.280926 -0.069353 -0.137667     1\n",
       "4 -1.018534 -1.511594 -2.004228  0.151174 -0.218339 -0.069353 -0.137667     1"
      ]
     },
     "execution_count": 5,
     "metadata": {},
     "output_type": "execute_result"
    }
   ],
   "source": [
    "le = LabelEncoder()\n",
    "cbwd = data['cbwd']\n",
    "transformed_cbwd = le.fit_transform(cbwd)\n",
    "transformed_data['cbwd'] = transformed_cbwd\n",
    "transformed_data.head()"
   ]
  },
  {
   "cell_type": "code",
   "execution_count": 6,
   "metadata": {
    "ExecuteTime": {
     "end_time": "2021-04-28T05:39:09.236740Z",
     "start_time": "2021-04-28T05:35:46.370735Z"
    }
   },
   "outputs": [
    {
     "data": {
      "text/html": [
       "<div>\n",
       "<style scoped>\n",
       "    .dataframe tbody tr th:only-of-type {\n",
       "        vertical-align: middle;\n",
       "    }\n",
       "\n",
       "    .dataframe tbody tr th {\n",
       "        vertical-align: top;\n",
       "    }\n",
       "\n",
       "    .dataframe thead th {\n",
       "        text-align: right;\n",
       "    }\n",
       "</style>\n",
       "<table border=\"1\" class=\"dataframe\">\n",
       "  <thead>\n",
       "    <tr style=\"text-align: right;\">\n",
       "      <th></th>\n",
       "      <th>pm2.5</th>\n",
       "      <th>DEWP</th>\n",
       "      <th>TEMP</th>\n",
       "      <th>PRES</th>\n",
       "      <th>Iws</th>\n",
       "      <th>Is</th>\n",
       "      <th>Ir</th>\n",
       "      <th>cbwd</th>\n",
       "    </tr>\n",
       "  </thead>\n",
       "  <tbody>\n",
       "    <tr>\n",
       "      <th>2010-01-01 00:00:00</th>\n",
       "      <td>-1.018534</td>\n",
       "      <td>-1.580878</td>\n",
       "      <td>-1.922250</td>\n",
       "      <td>0.443328</td>\n",
       "      <td>-0.441894</td>\n",
       "      <td>-0.069353</td>\n",
       "      <td>-0.137667</td>\n",
       "      <td>1</td>\n",
       "    </tr>\n",
       "    <tr>\n",
       "      <th>2010-01-01 01:00:00</th>\n",
       "      <td>-1.018534</td>\n",
       "      <td>-1.580878</td>\n",
       "      <td>-2.004228</td>\n",
       "      <td>0.345943</td>\n",
       "      <td>-0.379306</td>\n",
       "      <td>-0.069353</td>\n",
       "      <td>-0.137667</td>\n",
       "      <td>1</td>\n",
       "    </tr>\n",
       "    <tr>\n",
       "      <th>2010-01-01 02:00:00</th>\n",
       "      <td>-1.018534</td>\n",
       "      <td>-1.580878</td>\n",
       "      <td>-1.922250</td>\n",
       "      <td>0.248559</td>\n",
       "      <td>-0.343514</td>\n",
       "      <td>-0.069353</td>\n",
       "      <td>-0.137667</td>\n",
       "      <td>1</td>\n",
       "    </tr>\n",
       "    <tr>\n",
       "      <th>2010-01-01 03:00:00</th>\n",
       "      <td>-1.018534</td>\n",
       "      <td>-1.580878</td>\n",
       "      <td>-2.168183</td>\n",
       "      <td>0.248559</td>\n",
       "      <td>-0.280926</td>\n",
       "      <td>-0.069353</td>\n",
       "      <td>-0.137667</td>\n",
       "      <td>1</td>\n",
       "    </tr>\n",
       "    <tr>\n",
       "      <th>2010-01-01 04:00:00</th>\n",
       "      <td>-1.018534</td>\n",
       "      <td>-1.511594</td>\n",
       "      <td>-2.004228</td>\n",
       "      <td>0.151174</td>\n",
       "      <td>-0.218339</td>\n",
       "      <td>-0.069353</td>\n",
       "      <td>-0.137667</td>\n",
       "      <td>1</td>\n",
       "    </tr>\n",
       "  </tbody>\n",
       "</table>\n",
       "</div>"
      ],
      "text/plain": [
       "                        pm2.5      DEWP      TEMP      PRES       Iws  \\\n",
       "2010-01-01 00:00:00 -1.018534 -1.580878 -1.922250  0.443328 -0.441894   \n",
       "2010-01-01 01:00:00 -1.018534 -1.580878 -2.004228  0.345943 -0.379306   \n",
       "2010-01-01 02:00:00 -1.018534 -1.580878 -1.922250  0.248559 -0.343514   \n",
       "2010-01-01 03:00:00 -1.018534 -1.580878 -2.168183  0.248559 -0.280926   \n",
       "2010-01-01 04:00:00 -1.018534 -1.511594 -2.004228  0.151174 -0.218339   \n",
       "\n",
       "                           Is        Ir  cbwd  \n",
       "2010-01-01 00:00:00 -0.069353 -0.137667     1  \n",
       "2010-01-01 01:00:00 -0.069353 -0.137667     1  \n",
       "2010-01-01 02:00:00 -0.069353 -0.137667     1  \n",
       "2010-01-01 03:00:00 -0.069353 -0.137667     1  \n",
       "2010-01-01 04:00:00 -0.069353 -0.137667     1  "
      ]
     },
     "execution_count": 6,
     "metadata": {},
     "output_type": "execute_result"
    }
   ],
   "source": [
    "date_list = list()\n",
    "for i in range(len(data)):\n",
    "    year = int(data.iloc[i]['year'])\n",
    "    month = int(data.iloc[i]['month'])\n",
    "    day = int(data.iloc[i]['day'])\n",
    "    hour = int(data.iloc[i]['hour'])\n",
    "    date_list.append(dt.datetime(year, month, day, hour))\n",
    "transformed_data.index = date_list\n",
    "transformed_data.head()"
   ]
  },
  {
   "cell_type": "markdown",
   "metadata": {},
   "source": [
    "## data split"
   ]
  },
  {
   "cell_type": "code",
   "execution_count": 7,
   "metadata": {
    "ExecuteTime": {
     "end_time": "2021-04-28T05:39:10.105313Z",
     "start_time": "2021-04-28T05:39:10.063856Z"
    }
   },
   "outputs": [],
   "source": [
    "train_start = dt.datetime(2010, 1, 1, 0)\n",
    "train_end = dt.datetime(2012, 12, 31, 23)\n",
    "train = transformed_data.loc[train_start: train_end]\n",
    "\n",
    "valid_start = dt.datetime(2013, 1, 1, 0)\n",
    "valid_end = dt.datetime(2013, 12, 31, 23)\n",
    "valid = transformed_data[valid_start: valid_end]\n",
    "\n",
    "test_start = dt.datetime(2014, 1, 1, 0)\n",
    "test_end = dt.datetime(2014, 12, 31 ,23)\n",
    "test = transformed_data[test_start:test_end]"
   ]
  },
  {
   "cell_type": "code",
   "execution_count": 8,
   "metadata": {
    "ExecuteTime": {
     "end_time": "2021-04-28T05:39:11.409311Z",
     "start_time": "2021-04-28T05:39:11.359560Z"
    }
   },
   "outputs": [],
   "source": [
    "def dataprocessing(transformed_df):\n",
    "    X_data, y_data = list(), list()\n",
    "    for i in tqdm(range(0, len(transformed_df) - 36)):\n",
    "        pm = transformed_df.iloc[i : i + 24]['pm2.5']\n",
    "        dewp = transformed_df.iloc[i : i + 24]['DEWP']\n",
    "        temp = transformed_df.iloc[i : i + 24]['TEMP']\n",
    "        pres = transformed_df.iloc[i : i + 24]['PRES']\n",
    "        lws = transformed_df.iloc[i : i + 24]['Iws']\n",
    "        cbwd = transformed_df.iloc[i : i + 24]['cbwd']\n",
    "        Is = transformed_df.iloc[i : i + 24]['Is']\n",
    "        Ir = transformed_df.iloc[i : i + 24]['Ir']\n",
    "        X_data.append([pm, dewp, temp, pres, lws, cbwd, Is, Ir])\n",
    "        \n",
    "        pm = transformed_df.iloc[i + 24]['pm2.5']\n",
    "        y_data.append(pm)\n",
    "#     print(X_data)\n",
    "#     print(y_data)\n",
    "    return torch.Tensor(X_data), torch.Tensor(y_data)"
   ]
  },
  {
   "cell_type": "code",
   "execution_count": 9,
   "metadata": {
    "ExecuteTime": {
     "end_time": "2021-04-28T05:49:42.790376Z",
     "start_time": "2021-04-28T05:39:12.653358Z"
    }
   },
   "outputs": [
    {
     "name": "stderr",
     "output_type": "stream",
     "text": [
      "100%|██████████| 26268/26268 [05:49<00:00, 75.21it/s]\n",
      "100%|██████████| 8724/8724 [02:14<00:00, 65.06it/s]\n",
      "100%|██████████| 8724/8724 [02:03<00:00, 70.89it/s]\n"
     ]
    }
   ],
   "source": [
    "X_train, y_train = dataprocessing(train)\n",
    "X_valid, y_valid = dataprocessing(valid)\n",
    "X_test, y_test = dataprocessing(test)"
   ]
  },
  {
   "cell_type": "code",
   "execution_count": 10,
   "metadata": {
    "ExecuteTime": {
     "end_time": "2021-04-28T05:49:44.217109Z",
     "start_time": "2021-04-28T05:49:44.201992Z"
    }
   },
   "outputs": [
    {
     "name": "stdout",
     "output_type": "stream",
     "text": [
      "X Train shape  torch.Size([26268, 8, 24])\n",
      "X Valid shape  torch.Size([8724, 8, 24])\n",
      "X Test shape torch.Size([8724, 8, 24])\n"
     ]
    }
   ],
   "source": [
    "print('X Train shape ', X_train.shape)\n",
    "print('X Valid shape ', X_valid.shape)\n",
    "print('X Test shape', X_test.shape)"
   ]
  },
  {
   "cell_type": "code",
   "execution_count": 11,
   "metadata": {
    "ExecuteTime": {
     "end_time": "2021-04-28T05:49:45.844731Z",
     "start_time": "2021-04-28T05:49:45.825431Z"
    }
   },
   "outputs": [],
   "source": [
    "batch_size = 1\n",
    "\n",
    "train_data = TensorDataset(X_train, y_train)\n",
    "train_loader = DataLoader(train_data, shuffle=False, batch_size=128)\n",
    "\n",
    "valid_data = TensorDataset(X_valid, y_valid)\n",
    "valid_loader = DataLoader(valid_data, shuffle=False, batch_size=128)\n",
    "\n",
    "test_data = TensorDataset(X_test, y_test)\n",
    "test_loader = DataLoader(test_data, shuffle=False, batch_size=batch_size)"
   ]
  },
  {
   "cell_type": "markdown",
   "metadata": {},
   "source": [
    "## Model"
   ]
  },
  {
   "cell_type": "code",
   "execution_count": 12,
   "metadata": {
    "ExecuteTime": {
     "end_time": "2021-04-28T05:49:47.445320Z",
     "start_time": "2021-04-28T05:49:47.385401Z"
    }
   },
   "outputs": [],
   "source": [
    "class MultivariateLSTM(nn.Module):\n",
    "    def __init__(self, input_dim, hidden_dim):\n",
    "        super(MultivariateLSTM, self).__init__()\n",
    "        self.input_dim = input_dim\n",
    "        self.hidden_dim = hidden_dim\n",
    "        \n",
    "        self.lstm = nn.LSTM(input_dim, self.hidden_dim, batch_first=True)\n",
    "        self.flatten = nn.Flatten()\n",
    "        self.fc1 = nn.Linear(960, 512)\n",
    "        self.fc2 = nn.Linear(512, 256)\n",
    "        self.fc3 = nn.Linear(256, 128)\n",
    "        self.fc4 = nn.Linear(128, 32)\n",
    "        self.fc5 = nn.Linear(32, 1)\n",
    "        \n",
    "        self.bn1 = nn.BatchNorm1d(512)\n",
    "        self.bn2 = nn.BatchNorm1d(256)\n",
    "        self.bn3 = nn.BatchNorm1d(128)\n",
    "        self.bn4 = nn.BatchNorm1d(32)\n",
    "        \n",
    "        self.act = nn.ReLU()\n",
    "    def forward(self, inp):\n",
    "        h0, c0 = self.init_hidden(inp)\n",
    "        output, (h_t, c_t) = self.lstm(inp, (h0, c0))\n",
    "        output = self.flatten(output)\n",
    "        output = self.act(self.bn1(self.fc1(output)))\n",
    "        output = self.act(self.bn2(self.fc2(output)))\n",
    "        output = self.act(self.bn3(self.fc3(output)))\n",
    "        output = self.act(self.bn4(self.fc4(output)))\n",
    "        output = self.fc5(output)\n",
    "        return output\n",
    "        \n",
    "    def init_hidden(self, inp):\n",
    "        b, seq_len, c = inp.size()\n",
    "        h0 = torch.zeros(1, b, self.hidden_dim)\n",
    "        c0 = torch.zeros(1, b, self.hidden_dim)\n",
    "        return [t.cuda() for t in (h0, c0)]"
   ]
  },
  {
   "cell_type": "code",
   "execution_count": 13,
   "metadata": {
    "ExecuteTime": {
     "end_time": "2021-04-28T05:50:08.544754Z",
     "start_time": "2021-04-28T05:49:48.941396Z"
    },
    "scrolled": true
   },
   "outputs": [
    {
     "name": "stdout",
     "output_type": "stream",
     "text": [
      "torch.Size([128, 8, 24])\n",
      "torch.Size([128])\n",
      "torch.Size([128, 1])\n",
      "tensor([[ 2.1311e-01],\n",
      "        [ 5.2878e-01],\n",
      "        [ 5.6514e-01],\n",
      "        [ 4.6798e-01],\n",
      "        [ 4.8833e-01],\n",
      "        [ 3.1285e-01],\n",
      "        [ 5.1052e-01],\n",
      "        [ 2.1254e-01],\n",
      "        [-1.0638e-01],\n",
      "        [ 2.3787e-01],\n",
      "        [ 1.2780e-01],\n",
      "        [-2.0905e-01],\n",
      "        [ 3.5575e-02],\n",
      "        [ 5.4847e-02],\n",
      "        [ 3.9274e-02],\n",
      "        [ 5.6178e-01],\n",
      "        [-6.5211e-02],\n",
      "        [-3.3713e-01],\n",
      "        [ 2.7159e-01],\n",
      "        [ 1.1038e-01],\n",
      "        [-2.5140e-02],\n",
      "        [ 1.6713e-01],\n",
      "        [ 2.5647e-01],\n",
      "        [-3.2681e-02],\n",
      "        [-1.2330e-01],\n",
      "        [-1.4260e-01],\n",
      "        [-2.2286e-01],\n",
      "        [-1.1921e-01],\n",
      "        [-3.5027e-01],\n",
      "        [-2.0968e-01],\n",
      "        [-3.8819e-01],\n",
      "        [-2.6434e-01],\n",
      "        [-4.6470e-01],\n",
      "        [-5.8551e-01],\n",
      "        [-2.3142e-01],\n",
      "        [-2.0584e-01],\n",
      "        [-1.5960e-01],\n",
      "        [-7.7393e-02],\n",
      "        [ 1.3174e-02],\n",
      "        [-7.3468e-02],\n",
      "        [-1.3298e-03],\n",
      "        [-1.5740e-01],\n",
      "        [ 1.0942e-01],\n",
      "        [-4.1146e-03],\n",
      "        [-2.2807e-01],\n",
      "        [ 1.6295e-01],\n",
      "        [ 1.9476e-01],\n",
      "        [-2.6182e-02],\n",
      "        [ 4.8136e-01],\n",
      "        [-3.2450e-01],\n",
      "        [-2.7519e-02],\n",
      "        [-9.8100e-01],\n",
      "        [-1.7910e+00],\n",
      "        [-9.2852e-02],\n",
      "        [ 5.1030e-01],\n",
      "        [-3.5315e-01],\n",
      "        [ 6.6505e-01],\n",
      "        [ 4.3744e-01],\n",
      "        [ 3.7948e-01],\n",
      "        [-3.8801e-01],\n",
      "        [ 2.4295e-01],\n",
      "        [ 4.9672e-01],\n",
      "        [ 1.0455e+00],\n",
      "        [-6.8999e-01],\n",
      "        [ 5.8053e-01],\n",
      "        [-3.8599e-01],\n",
      "        [ 3.8081e-01],\n",
      "        [ 6.1235e-01],\n",
      "        [ 8.6337e-01],\n",
      "        [ 8.6035e-02],\n",
      "        [ 5.7823e-01],\n",
      "        [ 6.1177e-01],\n",
      "        [ 7.1084e-01],\n",
      "        [ 6.9037e-01],\n",
      "        [ 7.1346e-01],\n",
      "        [ 6.9442e-01],\n",
      "        [ 7.7717e-01],\n",
      "        [ 7.0137e-01],\n",
      "        [ 8.9448e-01],\n",
      "        [ 8.7477e-01],\n",
      "        [ 4.2756e-01],\n",
      "        [ 3.3526e-01],\n",
      "        [ 1.6977e-01],\n",
      "        [ 5.2460e-02],\n",
      "        [ 4.6846e-01],\n",
      "        [ 4.2147e-01],\n",
      "        [ 7.8092e-01],\n",
      "        [ 6.4838e-01],\n",
      "        [ 5.2932e-01],\n",
      "        [-5.9323e-02],\n",
      "        [ 3.9089e-01],\n",
      "        [ 3.2419e-01],\n",
      "        [ 9.3253e-02],\n",
      "        [ 1.7140e-01],\n",
      "        [ 3.2831e-01],\n",
      "        [ 1.1113e-01],\n",
      "        [ 2.5372e-01],\n",
      "        [ 5.4862e-01],\n",
      "        [ 3.1032e-01],\n",
      "        [ 1.2438e-01],\n",
      "        [-5.1915e-02],\n",
      "        [ 1.0584e-01],\n",
      "        [ 1.4674e-01],\n",
      "        [ 2.4187e-01],\n",
      "        [-6.7572e-03],\n",
      "        [ 3.3970e-01],\n",
      "        [ 2.9957e-02],\n",
      "        [ 3.7862e-01],\n",
      "        [ 1.2830e-01],\n",
      "        [ 1.1676e-01],\n",
      "        [ 3.4608e-01],\n",
      "        [ 4.0387e-01],\n",
      "        [ 2.7315e-01],\n",
      "        [ 1.6798e-01],\n",
      "        [ 2.9479e-01],\n",
      "        [ 2.6811e-01],\n",
      "        [ 6.9012e-01],\n",
      "        [ 1.5888e-02],\n",
      "        [ 3.8131e-02],\n",
      "        [ 1.5568e-01],\n",
      "        [ 2.0426e-01],\n",
      "        [-1.0023e-01],\n",
      "        [ 7.3378e-02],\n",
      "        [ 3.0978e-01],\n",
      "        [ 1.0180e-01],\n",
      "        [-2.5345e-01],\n",
      "        [ 2.0960e-01],\n",
      "        [ 1.5737e-01]], device='cuda:0')\n",
      "tensor(0.5783, device='cuda:0')\n"
     ]
    },
    {
     "name": "stderr",
     "output_type": "stream",
     "text": [
      "/opt/conda/lib/python3.8/site-packages/torch/nn/modules/loss.py:446: UserWarning: Using a target size (torch.Size([128])) that is different to the input size (torch.Size([128, 1])). This will likely lead to incorrect results due to broadcasting. Please ensure they have the same size.\n",
      "  return F.mse_loss(input, target, reduction=self.reduction)\n"
     ]
    }
   ],
   "source": [
    "with torch.no_grad():\n",
    "    dataiter = iter(train_loader)\n",
    "    X, y = dataiter.next()\n",
    "    print(X.shape)\n",
    "    print(y.shape)\n",
    "    X = X.reshape(-1, 24, 8)\n",
    "    model = MultivariateLSTM(8, 40).cuda()\n",
    "    output = model(X.cuda())\n",
    "    criterion = nn.MSELoss().cuda()\n",
    "    print(output.shape)\n",
    "    print(output)\n",
    "    loss = criterion(output.reshape(-1, 1), y.cuda())\n",
    "    print(loss)"
   ]
  },
  {
   "cell_type": "markdown",
   "metadata": {},
   "source": [
    "## Train"
   ]
  },
  {
   "cell_type": "code",
   "execution_count": 13,
   "metadata": {
    "ExecuteTime": {
     "end_time": "2021-04-14T14:07:05.370907Z",
     "start_time": "2021-04-14T14:07:05.359339Z"
    }
   },
   "outputs": [],
   "source": [
    "class EarlyStopping:\n",
    "    \"\"\"Early stops the training if validation loss doesn't improve after a given patience.\"\"\"\n",
    "    def __init__(self, patience=7, verbose=False, delta=0, path='singleLSTM_pm2.5.pth', trace_func=print):\n",
    "        \"\"\"\n",
    "        Args:\n",
    "            patience (int): How long to wait after last time validation loss improved.\n",
    "                            Default: 7\n",
    "            verbose (bool): If True, prints a message for each validation loss improvement. \n",
    "                            Default: False\n",
    "            delta (float): Minimum change in the monitored quantity to qualify as an improvement.\n",
    "                            Default: 0\n",
    "            path (str): Path for the checkpoint to be saved to.\n",
    "                            Default: 'checkpoint.pt'\n",
    "            trace_func (function): trace print function.\n",
    "                            Default: print            \n",
    "        \"\"\"\n",
    "        self.patience = patience\n",
    "        self.verbose = verbose\n",
    "        self.counter = 0\n",
    "        self.best_score = None\n",
    "        self.early_stop = False\n",
    "        self.val_loss_min = np.Inf\n",
    "        self.delta = delta\n",
    "        self.path = path\n",
    "        self.trace_func = trace_func\n",
    "    def __call__(self, val_loss, model):\n",
    "\n",
    "        score = -val_loss\n",
    "\n",
    "        if self.best_score is None:\n",
    "            self.best_score = score\n",
    "            self.save_checkpoint(val_loss, model)\n",
    "        elif score < self.best_score + self.delta:\n",
    "            self.counter += 1\n",
    "            self.trace_func(f'EarlyStopping counter: {self.counter} out of {self.patience}')\n",
    "            if self.counter >= self.patience:\n",
    "                self.early_stop = True\n",
    "        else:\n",
    "            self.best_score = score\n",
    "            self.save_checkpoint(val_loss, model)\n",
    "            self.counter = 0\n",
    "\n",
    "    def save_checkpoint(self, val_loss, model):\n",
    "        '''Saves model when validation loss decrease.'''\n",
    "        if self.verbose:\n",
    "            self.trace_func(f'Validation loss decreased ({self.val_loss_min:.6f} --> {val_loss:.6f}).  Saving model ...')\n",
    "        torch.save(model.state_dict(), self.path)\n",
    "        self.val_loss_min = val_loss"
   ]
  },
  {
   "cell_type": "code",
   "execution_count": 14,
   "metadata": {
    "ExecuteTime": {
     "end_time": "2021-04-28T05:50:10.732746Z",
     "start_time": "2021-04-28T05:50:10.641370Z"
    }
   },
   "outputs": [
    {
     "name": "stdout",
     "output_type": "stream",
     "text": [
      "MultivariateLSTM(\n",
      "  (lstm): LSTM(8, 40, batch_first=True)\n",
      "  (flatten): Flatten(start_dim=1, end_dim=-1)\n",
      "  (fc1): Linear(in_features=960, out_features=512, bias=True)\n",
      "  (fc2): Linear(in_features=512, out_features=256, bias=True)\n",
      "  (fc3): Linear(in_features=256, out_features=128, bias=True)\n",
      "  (fc4): Linear(in_features=128, out_features=32, bias=True)\n",
      "  (fc5): Linear(in_features=32, out_features=1, bias=True)\n",
      "  (bn1): BatchNorm1d(512, eps=1e-05, momentum=0.1, affine=True, track_running_stats=True)\n",
      "  (bn2): BatchNorm1d(256, eps=1e-05, momentum=0.1, affine=True, track_running_stats=True)\n",
      "  (bn3): BatchNorm1d(128, eps=1e-05, momentum=0.1, affine=True, track_running_stats=True)\n",
      "  (bn4): BatchNorm1d(32, eps=1e-05, momentum=0.1, affine=True, track_running_stats=True)\n",
      "  (act): ReLU()\n",
      ")\n"
     ]
    }
   ],
   "source": [
    "model = MultivariateLSTM(8, 40).cuda()\n",
    "\n",
    "lr = 0.0001\n",
    "optimizer = torch.optim.Adam(model.parameters(), lr=lr)\n",
    "scheduler = torch.optim.lr_scheduler.ReduceLROnPlateau(optimizer=optimizer,\n",
    "                                                       mode='min',\n",
    "                                                       factor=0.2\n",
    "                                                    )\n",
    "criterion = nn.MSELoss().cuda()\n",
    "patience = 20\n",
    "n_epochs = 300\n",
    "\n",
    "print(model)"
   ]
  },
  {
   "cell_type": "code",
   "execution_count": 16,
   "metadata": {
    "ExecuteTime": {
     "end_time": "2021-04-28T05:52:30.508744Z",
     "start_time": "2021-04-28T05:52:30.484494Z"
    }
   },
   "outputs": [],
   "source": [
    "def fit(model, batch_size, patience, n_epochs):\n",
    "    \n",
    "    train_losses = []\n",
    "    valid_losses = []\n",
    "    avg_train_losses = []\n",
    "    avg_valid_losses = [] \n",
    "    \n",
    "    early_stopping = EarlyStopping(patience=patience, verbose=True)\n",
    "    \n",
    "    for epoch in range(1, n_epochs + 1):\n",
    "\n",
    "        ###################\n",
    "        # train the model #\n",
    "        ###################\n",
    "        model.train()\n",
    "        for data, target in train_loader:\n",
    "            optimizer.zero_grad()\n",
    "            data, target = data.reshape(-1, 24, 8).cuda(), target.cuda()\n",
    "            output = model(data)\n",
    "            loss = criterion(output.reshape(-1, 1), target)\n",
    "            loss.backward()\n",
    "            optimizer.step()\n",
    "            train_losses.append(loss.item())\n",
    "\n",
    "        ######################    \n",
    "        # validate the model #\n",
    "        ######################\n",
    "        model.eval()\n",
    "        for data, target in valid_loader:\n",
    "            data, target = data.reshape(-1, 24, 8).cuda(), target.cuda()\n",
    "            output = model(data)\n",
    "            loss = criterion(output.reshape(-1, 1), target)\n",
    "            valid_losses.append(loss.item())\n",
    "\n",
    "        train_loss = np.average(train_losses)\n",
    "        valid_loss = np.average(valid_losses)\n",
    "        avg_train_losses.append(train_loss)\n",
    "        avg_valid_losses.append(valid_loss)\n",
    "            \n",
    "        epoch_len = len(str(n_epochs))\n",
    "        \n",
    "        print_msg = (f'[{epoch:>{epoch_len}}/{n_epochs:>{epoch_len}}] ' +\n",
    "                     f'train_loss: {train_loss:.5f} ' +\n",
    "                     f'valid_loss: {valid_loss:.5f}')\n",
    "        \n",
    "        print(print_msg)\n",
    "        \n",
    "        train_losses = []\n",
    "        valid_losses = []\n",
    "        early_stopping(valid_loss, model)\n",
    "        \n",
    "        if early_stopping.early_stop:\n",
    "            print(\"Early stopping\")\n",
    "            break\n",
    "\n",
    "    model.load_state_dict(torch.load('singleLSTM_pm2.5.pth'))\n",
    "\n",
    "    return  model, avg_train_losses, avg_valid_losses"
   ]
  },
  {
   "cell_type": "code",
   "execution_count": 20,
   "metadata": {
    "ExecuteTime": {
     "end_time": "2021-04-28T05:52:55.336792Z",
     "start_time": "2021-04-28T05:52:55.330715Z"
    }
   },
   "outputs": [],
   "source": [
    "def evaluate_model(model, test_loader):\n",
    "    test_loss = 0.0\n",
    "    y_test = []\n",
    "    y_hat = []\n",
    "    model.eval()\n",
    "    for data, target in test_loader:\n",
    "        data, target = data.reshape(-1, 24, 8).cuda(), target.cuda()\n",
    "        y_test.append(target.cpu().numpy())\n",
    "        output = model(data)\n",
    "        y_hat.append(output.reshape(-1, 1).detach().cpu().numpy())\n",
    "        loss = criterion(output.reshape(1), target)\n",
    "        test_loss += loss.item()\n",
    "    return test_loss/len(test_loader), y_test, y_hat"
   ]
  },
  {
   "cell_type": "code",
   "execution_count": 53,
   "metadata": {
    "ExecuteTime": {
     "end_time": "2021-04-13T06:57:22.812336Z",
     "start_time": "2021-04-13T06:54:40.231801Z"
    },
    "scrolled": true
   },
   "outputs": [
    {
     "name": "stdout",
     "output_type": "stream",
     "text": [
      "[  1/300] train_loss: 1.00386 valid_loss: 1.26990\n",
      "Validation loss decreased (inf --> 1.269899).  Saving model ...\n",
      "[  2/300] train_loss: 0.93568 valid_loss: 1.21755\n",
      "Validation loss decreased (1.269899 --> 1.217547).  Saving model ...\n",
      "[  3/300] train_loss: 0.90670 valid_loss: 1.19381\n",
      "Validation loss decreased (1.217547 --> 1.193806).  Saving model ...\n",
      "[  4/300] train_loss: 0.88646 valid_loss: 1.18796\n",
      "Validation loss decreased (1.193806 --> 1.187964).  Saving model ...\n",
      "[  5/300] train_loss: 0.86930 valid_loss: 1.19709\n",
      "EarlyStopping counter: 1 out of 20\n",
      "[  6/300] train_loss: 0.85427 valid_loss: 1.18834\n",
      "EarlyStopping counter: 2 out of 20\n",
      "[  7/300] train_loss: 0.84130 valid_loss: 1.19276\n",
      "EarlyStopping counter: 3 out of 20\n",
      "[  8/300] train_loss: 0.82816 valid_loss: 1.19486\n",
      "EarlyStopping counter: 4 out of 20\n",
      "[  9/300] train_loss: 0.81672 valid_loss: 1.19101\n",
      "EarlyStopping counter: 5 out of 20\n",
      "[ 10/300] train_loss: 0.80618 valid_loss: 1.18263\n",
      "Validation loss decreased (1.187964 --> 1.182629).  Saving model ...\n",
      "[ 11/300] train_loss: 0.79634 valid_loss: 1.18467\n",
      "EarlyStopping counter: 1 out of 20\n",
      "[ 12/300] train_loss: 0.78673 valid_loss: 1.18772\n",
      "EarlyStopping counter: 2 out of 20\n",
      "[ 13/300] train_loss: 0.77992 valid_loss: 1.19867\n",
      "EarlyStopping counter: 3 out of 20\n",
      "[ 14/300] train_loss: 0.77304 valid_loss: 1.19151\n",
      "EarlyStopping counter: 4 out of 20\n",
      "[ 15/300] train_loss: 0.76614 valid_loss: 1.20910\n",
      "EarlyStopping counter: 5 out of 20\n",
      "[ 16/300] train_loss: 0.75967 valid_loss: 1.21952\n",
      "EarlyStopping counter: 6 out of 20\n",
      "[ 17/300] train_loss: 0.75525 valid_loss: 1.21881\n",
      "EarlyStopping counter: 7 out of 20\n",
      "[ 18/300] train_loss: 0.74907 valid_loss: 1.20705\n",
      "EarlyStopping counter: 8 out of 20\n",
      "[ 19/300] train_loss: 0.74604 valid_loss: 1.22241\n",
      "EarlyStopping counter: 9 out of 20\n",
      "[ 20/300] train_loss: 0.74381 valid_loss: 1.21792\n",
      "EarlyStopping counter: 10 out of 20\n",
      "[ 21/300] train_loss: 0.73857 valid_loss: 1.21014\n",
      "EarlyStopping counter: 11 out of 20\n",
      "[ 22/300] train_loss: 0.73450 valid_loss: 1.21989\n",
      "EarlyStopping counter: 12 out of 20\n",
      "[ 23/300] train_loss: 0.73066 valid_loss: 1.23475\n",
      "EarlyStopping counter: 13 out of 20\n",
      "[ 24/300] train_loss: 0.72825 valid_loss: 1.21027\n",
      "EarlyStopping counter: 14 out of 20\n",
      "[ 25/300] train_loss: 0.72630 valid_loss: 1.23286\n",
      "EarlyStopping counter: 15 out of 20\n",
      "[ 26/300] train_loss: 0.72367 valid_loss: 1.23014\n",
      "EarlyStopping counter: 16 out of 20\n",
      "[ 27/300] train_loss: 0.72229 valid_loss: 1.24407\n",
      "EarlyStopping counter: 17 out of 20\n",
      "[ 28/300] train_loss: 0.72186 valid_loss: 1.22885\n",
      "EarlyStopping counter: 18 out of 20\n",
      "[ 29/300] train_loss: 0.71886 valid_loss: 1.21631\n",
      "EarlyStopping counter: 19 out of 20\n",
      "[ 30/300] train_loss: 0.71712 valid_loss: 1.21879\n",
      "EarlyStopping counter: 20 out of 20\n",
      "Early stopping\n"
     ]
    }
   ],
   "source": [
    "model, train_loss, valid_loss = fit(model, batch_size, patience, n_epochs)"
   ]
  },
  {
   "cell_type": "code",
   "execution_count": 18,
   "metadata": {
    "ExecuteTime": {
     "end_time": "2021-04-28T05:52:39.565313Z",
     "start_time": "2021-04-28T05:52:39.539800Z"
    }
   },
   "outputs": [
    {
     "data": {
      "text/plain": [
       "<All keys matched successfully>"
      ]
     },
     "execution_count": 18,
     "metadata": {},
     "output_type": "execute_result"
    }
   ],
   "source": [
    "model.load_state_dict(torch.load('singleLSTM_pm2.5.pth'))"
   ]
  },
  {
   "cell_type": "code",
   "execution_count": 21,
   "metadata": {
    "ExecuteTime": {
     "end_time": "2021-04-28T05:54:50.708756Z",
     "start_time": "2021-04-28T05:52:57.614406Z"
    }
   },
   "outputs": [],
   "source": [
    "test_loss, y_test, y_hat = evaluate_model(model, test_loader)"
   ]
  },
  {
   "cell_type": "code",
   "execution_count": 22,
   "metadata": {
    "ExecuteTime": {
     "end_time": "2021-04-28T05:55:24.837322Z",
     "start_time": "2021-04-28T05:55:24.817635Z"
    }
   },
   "outputs": [
    {
     "data": {
      "text/plain": [
       "1.0974463186421899"
      ]
     },
     "execution_count": 22,
     "metadata": {},
     "output_type": "execute_result"
    }
   ],
   "source": [
    "test_loss"
   ]
  },
  {
   "cell_type": "code",
   "execution_count": 23,
   "metadata": {
    "ExecuteTime": {
     "end_time": "2021-04-28T05:55:56.633641Z",
     "start_time": "2021-04-28T05:55:56.550840Z"
    }
   },
   "outputs": [],
   "source": [
    "target, predicted = list(), list()\n",
    "for i in range(len(y_test)):\n",
    "    target.append(y_test[i].item())\n",
    "    predicted.append(y_hat[i][0].item())"
   ]
  },
  {
   "cell_type": "code",
   "execution_count": 24,
   "metadata": {
    "ExecuteTime": {
     "end_time": "2021-04-28T05:56:37.116741Z",
     "start_time": "2021-04-28T05:56:35.932946Z"
    }
   },
   "outputs": [
    {
     "data": {
      "image/png": "[encoded data removed]",
      "text/plain": [
       "<Figure size 720x216 with 1 Axes>"
      ]
     },
     "metadata": {
      "needs_background": "light"
     },
     "output_type": "display_data"
    }
   ],
   "source": [
    "plt.figure(figsize=(10, 3))\n",
    "plt.plot(target[200:400], label='target')\n",
    "plt.plot(predicted[200:400], label='predicted')\n",
    "plt.legend(loc='upper left', fontsize=15)\n",
    "plt.show()"
   ]
  },
  {
   "cell_type": "code",
   "execution_count": 25,
   "metadata": {
    "ExecuteTime": {
     "end_time": "2021-04-28T05:57:07.694113Z",
     "start_time": "2021-04-28T05:57:06.479883Z"
    }
   },
   "outputs": [
    {
     "data": {
      "image/png": "[encoded data removed]",
      "text/plain": [
       "<Figure size 720x216 with 1 Axes>"
      ]
     },
     "metadata": {
      "needs_background": "light"
     },
     "output_type": "display_data"
    }
   ],
   "source": [
    "plt.figure(figsize=(10, 3))\n",
    "plt.plot(target[200:300], label='target')\n",
    "plt.plot(predicted[200:300], label='predicted')\n",
    "plt.legend()\n",
    "plt.show()"
   ]
  },
  {
   "cell_type": "code",
   "execution_count": 26,
   "metadata": {
    "ExecuteTime": {
     "end_time": "2021-04-28T05:57:38.484738Z",
     "start_time": "2021-04-28T05:57:37.029384Z"
    }
   },
   "outputs": [
    {
     "data": {
      "image/png": "[encoded data removed]",
      "text/plain": [
       "<Figure size 720x360 with 1 Axes>"
      ]
     },
     "metadata": {
      "needs_background": "light"
     },
     "output_type": "display_data"
    }
   ],
   "source": [
    "plt.figure(figsize=(10, 5))\n",
    "plt.plot(target, label='target')\n",
    "plt.plot(predicted, label='predicted')\n",
    "plt.legend()\n",
    "plt.show()"
   ]
  },
  {
   "cell_type": "code",
   "execution_count": null,
   "metadata": {},
   "outputs": [],
   "source": []
  }
 ],
 "metadata": {
  "kernelspec": {
   "display_name": "Python 3",
   "language": "python",
   "name": "python3"
  },
  "language_info": {
   "codemirror_mode": {
    "name": "ipython",
    "version": 3
   },
   "file_extension": ".py",
   "mimetype": "text/x-python",
   "name": "python",
   "nbconvert_exporter": "python",
   "pygments_lexer": "ipython3",
   "version": "3.8.5"
  },
  "toc": {
   "base_numbering": 1,
   "nav_menu": {},
   "number_sections": true,
   "sideBar": true,
   "skip_h1_title": false,
   "title_cell": "Table of Contents",
   "title_sidebar": "Contents",
   "toc_cell": false,
   "toc_position": {},
   "toc_section_display": true,
   "toc_window_display": false
  },
  "varInspector": {
   "cols": {
    "lenName": 16,
    "lenType": 16,
    "lenVar": 40
   },
   "kernels_config": {
    "python": {
     "delete_cmd_postfix": "",
     "delete_cmd_prefix": "del ",
     "library": "var_list.py",
     "varRefreshCmd": "print(var_dic_list())"
    },
    "r": {
     "delete_cmd_postfix": ") ",
     "delete_cmd_prefix": "rm(",
     "library": "var_list.r",
     "varRefreshCmd": "cat(var_dic_list()) "
    }
   },
   "types_to_exclude": [
    "module",
    "function",
    "builtin_function_or_method",
    "instance",
    "_Feature"
   ],
   "window_display": false
  }
 },
 "nbformat": 4,
 "nbformat_minor": 2
}
